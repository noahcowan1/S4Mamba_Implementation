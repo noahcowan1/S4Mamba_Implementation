{
  "cells": [
    {
      "cell_type": "markdown",
      "metadata": {
        "id": "view-in-github",
        "colab_type": "text"
      },
      "source": [
        "<a href=\"https://colab.research.google.com/github/noahcowan1/S4Mamba_Implementation/blob/Colab-Branch/CowanKatiyar_hw4_Part2.ipynb\" target=\"_parent\"><img src=\"https://colab.research.google.com/assets/colab-badge.svg\" alt=\"Open In Colab\"/></a>"
      ]
    },
    {
      "cell_type": "code",
      "source": [
        "from google.colab import drive\n",
        "drive.mount('/content/drive')"
      ],
      "metadata": {
        "colab": {
          "base_uri": "https://localhost:8080/"
        },
        "id": "8rq7yJWgAlMg",
        "outputId": "5e58e3f9-31dc-4402-f238-284050d7d35b"
      },
      "execution_count": 1,
      "outputs": [
        {
          "output_type": "stream",
          "name": "stdout",
          "text": [
            "Mounted at /content/drive\n"
          ]
        }
      ]
    },
    {
      "cell_type": "code",
      "source": [
        "save_dir = '/content/drive/MyDrive/Stats305B_FinalProject/'"
      ],
      "metadata": {
        "id": "oe5GuAlrA5M9"
      },
      "execution_count": 2,
      "outputs": []
    },
    {
      "cell_type": "markdown",
      "source": [
        "## Set Color Palette"
      ],
      "metadata": {
        "collapsed": false,
        "id": "hsjEQFNJ_Bdq"
      }
    },
    {
      "cell_type": "code",
      "outputs": [],
      "source": [
        "hiroshige = dict(colors=(\"#e76254\", \"#ef8a47\", \"#f7aa58\", \"#ffd06f\",\n",
        "                           \"#ffe6b7\", \"#aadce0\", \"#72bcd5\", \"#528fad\",\n",
        "                           \"#376795\", \"#1e466e\"),\n",
        "                 order=(6, 2, 9, 3, 7, 5, 1, 10, 4, 8))\n",
        "\n",
        "monet = dict(colors=(\"#4e6d58\", \"#749e89\", \"#abccbe\", \"#e3cacf\",\n",
        "                   \"#c399a2\", \"#9f6e71\", \"#41507b\", \"#7d87b2\",\n",
        "                   \"#c2cae3\"),\n",
        "           order=(2, 5, 8, 3, 4, 9, 1, 6, 7))\n",
        "kandinsky = dict(colors=(\"#3b7c70\", \"#ce9642\", \"#898e9f\", \"#3b3a3e\"),\n",
        "                 order=(1, 2, 3, 4))\n",
        "\n",
        "tara=dict(colors=(\"#eab1c6\", \"#d35e17\", \"#e18a1f\", \"#e9b109\", \"#829d44\"),\n",
        "          order=(1, 3, 2, 5, 4))\n",
        "\n",
        "klimt=dict(colors=(\"#df9ed4\", \"#c93f55\", \"#eacc62\", \"#469d76\", \"#3c4b99\", \"#924099\"),\n",
        "           order=(5, 2, 3, 4, 6, 1))\n",
        "\n",
        "troy=dict(colors=(\"#421401\", \"#6c1d0e\", \"#8b3a2b\", \"#c27668\",\n",
        "                  \"#7ba0b4\", \"#44728c\", \"#235070\", \"#0a2d46\"),\n",
        "          order=(2, 7, 4, 5, 1, 8, 3, 6))\n",
        "\n",
        "def get_color(idx, colors_dict=hiroshige):\n",
        "    \"\"\"\n",
        "    Helper function to get a color from the defined color dictionary.\n",
        "    In order, starting at 0\n",
        "    \"\"\"\n",
        "    return colors_dict['colors'][colors_dict['order'].index(idx+1)]"
      ],
      "metadata": {
        "ExecuteTime": {
          "end_time": "2024-03-07T05:19:31.276173Z",
          "start_time": "2024-03-07T05:19:31.270772Z"
        },
        "id": "1K3bU3GQ_Bdq"
      },
      "execution_count": 3
    },
    {
      "cell_type": "markdown",
      "metadata": {
        "id": "qZ-AwbZ4ySCJ"
      },
      "source": [
        "## Setup"
      ]
    },
    {
      "cell_type": "code",
      "execution_count": 4,
      "metadata": {
        "id": "Xd4fRbWr15Yp",
        "ExecuteTime": {
          "end_time": "2024-03-07T05:19:35.439274Z",
          "start_time": "2024-03-07T05:19:35.437505Z"
        }
      },
      "outputs": [],
      "source": [
        "# can take around 30s\n",
        "%%capture\n",
        "! pip install datasets #huggingface datasets library\n",
        "! pip install --upgrade pyarrow\n",
        "! pip install einops\n",
        "! pip install mamba-ssm\n",
        "! pip install causal-conv1d\n",
        "! git clone 'https://github.com/lindermanlab/S5.git'\n",
        "! git clone 'https://github.com/state-spaces/mamba.git'"
      ]
    },
    {
      "cell_type": "code",
      "execution_count": 5,
      "metadata": {
        "id": "_5IXGh6OOBZV",
        "ExecuteTime": {
          "end_time": "2024-03-06T17:36:07.782895Z",
          "start_time": "2024-03-06T17:36:07.775952Z"
        }
      },
      "outputs": [],
      "source": [
        "import math\n",
        "from math import sqrt\n",
        "import csv\n",
        "\n",
        "# torch imports\n",
        "import torch\n",
        "import torch.nn as nn\n",
        "import torch.nn.functional as F\n",
        "import torch.optim as optim\n",
        "from torch.cuda.amp import custom_bwd, custom_fwd\n",
        "from dataclasses import dataclass\n",
        "from einops import rearrange, repeat, einsum\n",
        "\n",
        "# hugging face imports\n",
        "from datasets import load_dataset\n",
        "from transformers import AutoTokenizer\n",
        "\n",
        "import matplotlib.pyplot as plt\n",
        "from tqdm import tqdm\n",
        "\n",
        "import pandas as pd\n",
        "import sys\n",
        "import warnings"
      ]
    },
    {
      "cell_type": "code",
      "outputs": [],
      "source": [
        "def get_device():\n",
        "    if torch.backends.mps.is_available():\n",
        "        device_func = \"mps\"\n",
        "    elif torch.cuda.is_available():\n",
        "        device_func = \"cuda\"\n",
        "    else:\n",
        "        device_func = \"cpu\"\n",
        "    return device_func"
      ],
      "metadata": {
        "ExecuteTime": {
          "end_time": "2024-03-07T05:19:35.905879Z",
          "start_time": "2024-03-07T05:19:35.903584Z"
        },
        "id": "g89scjkN_Bdr"
      },
      "execution_count": 6
    },
    {
      "cell_type": "code",
      "outputs": [],
      "source": [
        "torch.manual_seed(305)\n",
        "\n",
        "device = get_device()\n",
        "assert device=='mps' or device=='cuda', \"you need to change runtime type to GPU\""
      ],
      "metadata": {
        "id": "mAXAf1YO_Bdr"
      },
      "execution_count": 7
    },
    {
      "cell_type": "code",
      "execution_count": 8,
      "metadata": {
        "id": "A_Z5Jh74DH_E",
        "ExecuteTime": {
          "end_time": "2024-03-06T17:45:38.846400Z",
          "start_time": "2024-03-06T17:45:38.843385Z"
        }
      },
      "outputs": [],
      "source": [
        "# hyperparams and helper functions\n",
        "SMALL_ITERS = 1000\n",
        "LARGE_ITERS = 2000\n",
        "context_window_size = 256\n",
        "chunk_size = 512 # BERT can only take max input size 512 characters\n",
        "\n",
        "def chunk_string(string, size):\n",
        "    \"\"\"\n",
        "    Splits a string into chunks of a specified size.\n",
        "\n",
        "    :param string: The string to be chunked.\n",
        "    :param size: The desired chunk size.\n",
        "    :return: A list of string chunks.\n",
        "    \"\"\"\n",
        "    return [string[i:i+size] for i in range(0, len(string), size)]"
      ]
    },
    {
      "cell_type": "code",
      "source": [
        "def fix_loss_list(model_file_name):\n",
        "  # Accidentally saved loss as a single row lol so this to fix it\n",
        "  with open(save_dir + f\"loss_list_{model_file_name}.csv\", 'r') as file:\n",
        "      file_content = file.read()\n",
        "\n",
        "  loss_values = file_content.split('\\n')[1].split(',')\n",
        "  df_loss = pd.DataFrame(loss_values, columns=['loss'])\n",
        "\n",
        "  # Convert the 'loss' column to numeric values\n",
        "  df_loss['loss'] = pd.to_numeric(df_loss['loss'], errors='coerce')\n",
        "  return df_loss"
      ],
      "metadata": {
        "id": "I6SFrwQHo-Ru"
      },
      "execution_count": 9,
      "outputs": []
    },
    {
      "cell_type": "code",
      "outputs": [],
      "source": [
        "# Adding temperature sampling to scale how creative logits are\n",
        "def temperature_sampling(logits, temperature=1.0):\n",
        "            \"\"\"\n",
        "            Args:\n",
        "              logits: (B, _, V), logits  gives the length V vector of logits for the next token prediction in string b up to t tokens\n",
        "              temperature: float, temperature scaling factor, closer to 0 means more conservative sampling, closer to infinity means more uniform sampling\n",
        "\n",
        "            returns:\n",
        "                (B, ) tensor of next token ids for each string in the batch\n",
        "            \"\"\"\n",
        "            B = logits.shape[0]\n",
        "            logits_updated = logits / temperature\n",
        "            probabilities = F.softmax(logits_updated, dim=-1)\n",
        "            next_token = torch.multinomial(probabilities.view(B, -1), num_samples=1)\n",
        "            return next_token"
      ],
      "metadata": {
        "ExecuteTime": {
          "end_time": "2024-03-07T06:08:43.717308Z",
          "start_time": "2024-03-07T06:08:43.713445Z"
        },
        "id": "cBjhPGGF_Bdv"
      },
      "execution_count": 10
    },
    {
      "cell_type": "code",
      "execution_count": 47,
      "metadata": {
        "id": "E2r390zbyz3O",
        "ExecuteTime": {
          "end_time": "2024-03-07T06:56:51.142412Z",
          "start_time": "2024-03-07T06:56:49.279326Z"
        }
      },
      "outputs": [],
      "source": [
        "def train_or_load_model(save_dir,\n",
        "                        model_instantiation,\n",
        "                        model_file_name,\n",
        "                        learning_rate = 1e-2,\n",
        "                        iters = SMALL_ITERS,\n",
        "                        eval_iters = 200,\n",
        "                        context_window_size = context_window_size,\n",
        "                        device = device):\n",
        "  \"\"\"\n",
        "  Function to load a model saved in \"save_dir\" or train a new model if no file\n",
        "  exists in \"save_dir.\" The file should have name \"model_file_name_model\"\n",
        "\n",
        "  Args:\n",
        "    save_dir (str): directory to save model\n",
        "    model_instantiation (class): class of model to instantiate\n",
        "    model_file_name (str): name of file to save model to\n",
        "    learning_rate (float): learning rate for optimizer, if no file found\n",
        "  Returns:\n",
        "    Lists of losses for each iteration and evaluation iterations,\n",
        "    changes model as well\n",
        "  \"\"\"\n",
        "  try:\n",
        "      loss_df_model = pd.read_csv(save_dir + f\"loss_list_{model_file_name}.csv\", index_col=False)\n",
        "      print(\"Read in Loss from File\")\n",
        "      loss_eval_df_model = pd.read_csv(save_dir + f\"loss_eval_{model_file_name}.csv\")\n",
        "      print(\"Read in eval loss from file\")\n",
        "      model_instantiation.load_state_dict(\n",
        "          torch.load(save_dir + f\"{model_file_name}_model.pt\"))\n",
        "      print(\"Loaded model from file\")\n",
        "      return loss_df_model, loss_eval_df_model\n",
        "\n",
        "  except FileNotFoundError:\n",
        "      print(\"No File Found, Training Model\")\n",
        "      # create a PyTorch optimizer\n",
        "      optimizer = torch.optim.AdamW(model_instantiation.parameters(),\n",
        "                                    lr=learning_rate)\n",
        "\n",
        "      eval_interval = eval_iters\n",
        "\n",
        "      loss_list_model = [] # list to store all losses\n",
        "      loss_eval_list = []  # list to store evaluation losses\n",
        "\n",
        "      for it in tqdm(range(iters)):\n",
        "          # every once in a while evaluate the loss on train and val sets\n",
        "          if it % eval_interval == 0 or it == iters - 1:\n",
        "              print(f\"iteration {it}\")\n",
        "              losses = estimate_loss(model_instantiation, eval_iters, context_window_size, device)\n",
        "              print(f\"step {it}: train loss {losses['train']:.4f}, val loss {losses['val']:.4f}\")\n",
        "              loss_eval_list.append([it, losses['train'].item(), losses['val'].item()])\n",
        "\n",
        "          # sample a batch of data\n",
        "          xb, yb = get_batch('train', context_window_size, device)\n",
        "\n",
        "          # evaluate the loss\n",
        "          logits, loss = model_instantiation(xb, yb)\n",
        "          loss_list_model.append(loss.detach().item())\n",
        "          optimizer.zero_grad(set_to_none=True)\n",
        "          loss.backward()\n",
        "          optimizer.step()\n",
        "\n",
        "      torch.save(model_instantiation.state_dict(), save_dir + f\"{model_file_name}_model.pt\")\n",
        "\n",
        "      # Save batch losses to CSV\n",
        "      with open(save_dir + f\"loss_list_{model_file_name}.csv\",\n",
        "                \"w\", newline='') as f:\n",
        "          writer = csv.writer(f)\n",
        "          writer.writerow([\"Loss\"])\n",
        "          for loss in loss_list_model:\n",
        "              writer.writerow([loss])\n",
        "\n",
        "      with open(save_dir + f\"loss_tobefixed_{model_file_name}.csv\",\n",
        "                \"w\", newline='') as f:\n",
        "          writer = csv.writer(f)\n",
        "          writer.writerow([\"Loss\"])\n",
        "          writer.writerows([loss_list_model])\n",
        "\n",
        "      # Save evaluation losses to CSV\n",
        "      with open(save_dir + f\"loss_eval_{model_file_name}.csv\", \"w\", newline='') as f:\n",
        "          writer = csv.writer(f)\n",
        "          writer.writerow([\"Iteration\", \"Train Loss\", \"Validation Loss\"])\n",
        "          writer.writerows(loss_eval_list)\n",
        "      return loss_list_model, loss_eval_list\n",
        "  except:\n",
        "      print(\"Something else went wrong\")"
      ]
    },
    {
      "cell_type": "markdown",
      "metadata": {
        "id": "lF6dgHnhOprg"
      },
      "source": [
        "## Part 0: Preprocessing"
      ]
    },
    {
      "cell_type": "markdown",
      "metadata": {
        "id": "WF0_bhXNOxeS"
      },
      "source": [
        "### 0.1: Loading the dataset\n",
        "\n",
        "The first step is to actually download the dataset. We will be using a dataset on [huggingface](https://huggingface.co/). You can think of hugging face as the sklearn of deep learning.\n",
        "\n",
        "The dominant mode for preprocessing textual data is to tokenize it, that is, to split the dataset into a finite vocabulary of tokens. Then, we can set up a dictionary where counting numbers map to tokens. Tokens can be characters, or words, or subwords; in fact, the \"best\" way to tokenize text is an active area of research. For our baseline, we will use a tokenizer that microsoft created for code."
      ]
    },
    {
      "cell_type": "code",
      "execution_count": 12,
      "metadata": {
        "id": "53dGz7ExDkUv",
        "ExecuteTime": {
          "end_time": "2024-03-05T00:26:10.822788Z",
          "start_time": "2024-03-05T00:26:08.093102Z"
        }
      },
      "outputs": [],
      "source": [
        "%%capture\n",
        "tokenizer = AutoTokenizer.from_pretrained('microsoft/CodeBERT-base')"
      ]
    },
    {
      "cell_type": "code",
      "execution_count": 13,
      "metadata": {
        "id": "BAdrvcIbORig",
        "ExecuteTime": {
          "end_time": "2024-03-05T00:26:23.882801Z",
          "start_time": "2024-03-05T00:26:22.198576Z"
        }
      },
      "outputs": [],
      "source": [
        "# Load the concatenated data\n",
        "raw_data = pd.read_csv(\"https://raw.githubusercontent.com/slinderman/stats305b/winter2024/assignments/hw4/python_corpus_4M.csv\", header=None)"
      ]
    },
    {
      "cell_type": "code",
      "execution_count": 14,
      "metadata": {
        "id": "LFZ2or4BO2w3",
        "ExecuteTime": {
          "end_time": "2024-03-05T00:26:57.613981Z",
          "start_time": "2024-03-05T00:26:27.981074Z"
        },
        "colab": {
          "base_uri": "https://localhost:8080/"
        },
        "outputId": "d3df7105-0a38-49bc-9a63-712b596f3e4a"
      },
      "outputs": [
        {
          "output_type": "stream",
          "name": "stderr",
          "text": [
            "Token indices sequence length is longer than the specified maximum sequence length for this model (523 > 512). Running this sequence through the model will result in indexing errors\n"
          ]
        },
        {
          "output_type": "stream",
          "name": "stdout",
          "text": [
            "4000596 tokens have been loaded in\n"
          ]
        }
      ],
      "source": [
        "# should take around 3 min to load in around 4M tokens\n",
        "warnings.filterwarnings(\"ignore\")\n",
        "\n",
        "tokens = torch.tensor([], dtype=torch.long)\n",
        "for index, row in raw_data.iterrows():\n",
        "    text = row[0]\n",
        "    chunks = chunk_string(text, chunk_size)\n",
        "    n = len(chunks)\n",
        "    for idx, chunk in enumerate(chunks):\n",
        "        new_tokens = torch.tensor(tokenizer.encode(chunk, add_special_tokens=True))\n",
        "\n",
        "        # logic to avoid incorrectly adding in start and end sequence tokens as an artifact of chunking\n",
        "        if idx == 0:\n",
        "            tokens = torch.cat((tokens, new_tokens[:-1]), dim=0)\n",
        "        elif idx == n-1:\n",
        "            tokens = torch.cat((tokens, new_tokens[1:]), dim=0)\n",
        "        else:\n",
        "            tokens = torch.cat((tokens, new_tokens[1:-1]), dim=0)\n",
        "\n",
        "print(f\"{len(tokens)} tokens have been loaded in\")"
      ]
    },
    {
      "cell_type": "markdown",
      "metadata": {
        "id": "NUnScCoUCRI0"
      },
      "source": [
        "### Question 0.2: Examining the tokenizer"
      ]
    },
    {
      "cell_type": "markdown",
      "metadata": {
        "id": "3rz0XmuXCdGJ"
      },
      "source": [
        "Let's use the same prompts we used in Part 1:"
      ]
    },
    {
      "cell_type": "code",
      "execution_count": 15,
      "metadata": {
        "id": "KPbmLgmmChVg",
        "ExecuteTime": {
          "end_time": "2024-03-05T00:26:57.617613Z",
          "start_time": "2024-03-05T00:26:57.615347Z"
        }
      },
      "outputs": [],
      "source": [
        "prompt_1_text = \\\n",
        "\"\"\"def newton(eta, N, X, y, gamma, beta=None):\n",
        "  \\\"\"\"\n",
        "  Performs Newton's method on the negative average log likelihood with an\n",
        "  l2 regularization term\n",
        "\n",
        "  beta: torch.Tensor, of shape (teams)\n",
        "  X: torch.Tensor, the covariate matrix, of shape (-1, teams)\n",
        "  y: torch.Tensor, the response vector, of shape (teams)\n",
        "  gamma: float, the scale parameter for the regularization\n",
        "  beta: torch.Tensor, the starting point for gradient descent, if specified\n",
        "  \\\"\"\"\n",
        "\n",
        "  if beta is None:\n",
        "    # Instantiate the beta vector at a random point\n",
        "    beta = torch.randn(X.shape[1])\n",
        "  else:\n",
        "    beta = torch.clone(beta)\n",
        "\n",
        "  loss = []\n",
        "\n",
        "  # Instantiate a list to store the loss throughout the gradient descent\n",
        "  # path\n",
        "  for i in tqdm(range(N)):\"\"\""
      ]
    },
    {
      "cell_type": "code",
      "execution_count": 16,
      "metadata": {
        "id": "gZpeZjvqCnmH",
        "ExecuteTime": {
          "end_time": "2024-03-05T00:27:00.206799Z",
          "start_time": "2024-03-05T00:27:00.204367Z"
        }
      },
      "outputs": [],
      "source": [
        "prompt_2_text = \\\n",
        "\"\"\"import torch\n",
        "import torch.nn.functional as F\n",
        "\n",
        "\n",
        "def normalize(x, axis=-1):\n",
        "    \\\"\"\"Performs L2-Norm.\\\"\"\"\n",
        "    num = x\n",
        "    denom = torch.norm(x, 2, axis, keepdim=True).expand_as(x) + 1e-12\n",
        "    return num / denom\n",
        "\n",
        "def euclidean_dist(x, y):\n",
        "    \\\"\"\"Computes Euclidean distance.\\\"\"\"\n",
        "    m, n = x.size(0), y.size(0)\n",
        "    xx = torch.pow(x, 2).sum(1, keepdim=True).expand(m, n)\n",
        "    yy = torch.pow(x, 2).sum(1, keepdim=True).expand(m, m).t()\n",
        "    dist = xx + yy - 2 * torch.matmul(x, y.t())\n",
        "\n",
        "    dist = dist.clamp(min=1e-12).sqrt()\n",
        "\n",
        "    return dist\n",
        "\n",
        "\n",
        "def cosine_dist(x, y):\"\"\""
      ]
    },
    {
      "cell_type": "markdown",
      "metadata": {
        "id": "jFZUT77rCp3q"
      },
      "source": [
        "Here is what the tokenized output for the prompts looks like"
      ]
    },
    {
      "cell_type": "markdown",
      "metadata": {
        "id": "0hwg1_7kDxwY"
      },
      "source": [
        "### 0.3: Building our dataloader"
      ]
    },
    {
      "cell_type": "markdown",
      "metadata": {
        "id": "uk4UJm5SEMlB"
      },
      "source": [
        "There are around 50,000 tokens in the codebert vocab, but we only use around 20,000 of them. To make our lives easier, we just reindex the token indices to go from 1 to around 20,000."
      ]
    },
    {
      "cell_type": "code",
      "execution_count": 17,
      "metadata": {
        "id": "RZC0TYeaD6yj",
        "ExecuteTime": {
          "end_time": "2024-03-05T03:18:04.335868Z",
          "start_time": "2024-03-05T03:18:04.197175Z"
        },
        "colab": {
          "base_uri": "https://localhost:8080/"
        },
        "outputId": "6e9f6c7d-3b0f-42a0-dd00-e4d4c9056b15"
      },
      "outputs": [
        {
          "output_type": "stream",
          "name": "stdout",
          "text": [
            "there are 21970 distinct tokens in the vocabulary\n"
          ]
        }
      ],
      "source": [
        "# Get unique elements\n",
        "extra_tokens = torch.cat((torch.tensor(tokenizer.encode(prompt_1_text, add_special_tokens=True)),\n",
        "                          torch.tensor(tokenizer.encode(prompt_2_text, add_special_tokens=True))),\n",
        "                         dim=0)\n",
        "\n",
        "unique_tokens = torch.unique(torch.cat((tokens, extra_tokens), dim=0))\n",
        "\n",
        "# Create a mapping from code bert to ids that increment by one\n",
        "from_code_bert_dict = {element.item(): id for id, element in enumerate(unique_tokens)}\n",
        "\n",
        "# Create a reverse mapping from ids to code bert token ids\n",
        "to_code_bert_dict = {id: element for element, id in from_code_bert_dict.items()}\n",
        "\n",
        "vocab_size = len(unique_tokens)\n",
        "print(f\"there are {vocab_size} distinct tokens in the vocabulary\")\n",
        "\n",
        "# helper functions to move between code bert and simple ids\n",
        "def from_code_bert(tkn_lst):\n",
        "    \"\"\"\n",
        "    Args:\n",
        "    tkn_lst: a list of code bert tokens\n",
        "    Returns:\n",
        "    a list of simple ids\n",
        "    \"\"\"\n",
        "    tkns = [int(from_code_bert_dict[token]) for token in tkn_lst]\n",
        "    return tkns\n",
        "\n",
        "\n",
        "def to_code_bert(tkn_lst):\n",
        "    \"\"\"\n",
        "    Args:\n",
        "    tkn_lst: a list of simple ids\n",
        "    Returns:\n",
        "    a list of code bert tokens\n",
        "    \"\"\"\n",
        "    tkns = [int(to_code_bert_dict[token]) for token in tkn_lst]\n",
        "    return tkns"
      ]
    },
    {
      "cell_type": "code",
      "execution_count": 18,
      "metadata": {
        "id": "pNOmdccJEXWk",
        "ExecuteTime": {
          "end_time": "2024-03-05T03:18:24.449548Z",
          "start_time": "2024-03-05T03:18:19.772556Z"
        },
        "colab": {
          "base_uri": "https://localhost:8080/"
        },
        "outputId": "65458e8a-bffd-4080-e881-79fa53979de6"
      },
      "outputs": [
        {
          "output_type": "stream",
          "name": "stdout",
          "text": [
            "there are 3600536 tokens in the training set\n",
            "there are 400060 tokens in the validation set\n",
            "there are 21970 distinct tokens in the vocabulary\n"
          ]
        }
      ],
      "source": [
        "# let's translate our dataset into our ids\n",
        "tokens_simple_id = torch.tensor([from_code_bert_dict[token.item()] for token in tokens])\n",
        "\n",
        "# split up the data into train and validation sets\n",
        "n = int(0.9 * len(tokens_simple_id)) # first 90% will be train, rest val\n",
        "train_data = tokens_simple_id.clone()[:n]\n",
        "val_data = tokens_simple_id.clone()[n:]\n",
        "\n",
        "print(f\"there are {len(train_data)} tokens in the training set\")\n",
        "print(f\"there are {len(val_data)} tokens in the validation set\")\n",
        "print(f\"there are {vocab_size} distinct tokens in the vocabulary\")"
      ]
    },
    {
      "cell_type": "markdown",
      "metadata": {
        "id": "nsOs0_diEcjY"
      },
      "source": [
        "We also write helper functions to get batches of data and to evaluate the loss of various models on them."
      ]
    },
    {
      "cell_type": "code",
      "execution_count": 19,
      "metadata": {
        "id": "AkAD0PfiEfjG",
        "ExecuteTime": {
          "end_time": "2024-03-05T03:18:45.159569Z",
          "start_time": "2024-03-05T03:18:45.155702Z"
        }
      },
      "outputs": [],
      "source": [
        "# function for getting batches of data\n",
        "def get_batch(split, context_window_size, device, batch_size=32):\n",
        "    \"\"\"\n",
        "    generate a small batch of data of inputs x and targets y\n",
        "\n",
        "    Args:\n",
        "        split: 'train' or 'val'\n",
        "        device: 'cpu' or 'cuda' (should be 'cuda' if available)\n",
        "    \"\"\"\n",
        "    data = train_data if split == 'train' else val_data\n",
        "    ix = torch.randint(len(data) - context_window_size, (batch_size,))\n",
        "    x = torch.stack([data[i:i+context_window_size] for i in ix])\n",
        "    y = torch.stack([data[i+1:i+context_window_size+1] for i in ix])\n",
        "    x = x.to(device)\n",
        "    y = y.to(device)\n",
        "    return x, y\n",
        "\n",
        "# helper function for tracking loss during training\n",
        "# given to you\n",
        "@torch.no_grad()\n",
        "def estimate_loss(model, eval_iters, context_window_size, device):\n",
        "    \"\"\"\n",
        "    Args:\n",
        "      model: model being evaluated\n",
        "      eval_iters: number of batches to average over\n",
        "      context_window_size: size of the context window\n",
        "      device: 'cpu' or 'cuda' (should be 'cuda' if available)\n",
        "    \"\"\"\n",
        "    out = {}\n",
        "    for split in ['train', 'val']:\n",
        "        losses = torch.zeros(eval_iters)\n",
        "        for k in range(eval_iters):\n",
        "            X, Y = get_batch(split, context_window_size, device)\n",
        "            logits, loss = model(X, Y)\n",
        "            losses[k] = loss.item()\n",
        "        out[split] = losses.mean()\n",
        "    return out"
      ]
    },
    {
      "cell_type": "code",
      "source": [
        "start_context = torch.zeros((1, 1), dtype=torch.long, device=device)\n",
        "print(f\"shape is {start_context.shape}\")\n",
        "context1 = torch.tensor(from_code_bert(tokenizer.encode(prompt_1_text)[:-1]),\n",
        "                        device=device).reshape(1, -1) # (1, T)\n",
        "print(f\"shape is {context1.shape}\")\n",
        "context2 = torch.tensor(from_code_bert(tokenizer.encode(prompt_2_text)[:-1]),\n",
        "                        device=device).reshape(1, -1)\n",
        "print(f\"shape is {context2.shape}\")"
      ],
      "metadata": {
        "colab": {
          "base_uri": "https://localhost:8080/"
        },
        "id": "duRD0prGudOU",
        "outputId": "69ffc5a5-a6c1-43b6-ec06-05a74f366069"
      },
      "execution_count": 20,
      "outputs": [
        {
          "output_type": "stream",
          "name": "stdout",
          "text": [
            "shape is torch.Size([1, 1])\n",
            "shape is torch.Size([1, 225])\n",
            "shape is torch.Size([1, 263])\n"
          ]
        }
      ]
    },
    {
      "cell_type": "markdown",
      "metadata": {
        "id": "vqCCiCYcKMD0"
      },
      "source": [
        "# Part 1. Transformers model\n",
        "\n",
        "We now stack 6 `TransformerBlocks` (with a final layer norm applied after the blocks but before the logits) to create our basline `TransformerLM`."
      ]
    },
    {
      "cell_type": "markdown",
      "source": [
        "### Transformer Model Definition"
      ],
      "metadata": {
        "id": "DcJsgE6moy3k"
      }
    },
    {
      "cell_type": "code",
      "execution_count": 21,
      "metadata": {
        "id": "O_eBPiT-Yy0q",
        "ExecuteTime": {
          "end_time": "2024-03-07T07:24:13.851869Z",
          "start_time": "2024-03-07T07:24:13.848239Z"
        }
      },
      "outputs": [],
      "source": [
        "class Head(nn.Module):\n",
        "    \"\"\" one head of self-attention \"\"\"\n",
        "\n",
        "    def __init__(self, head_size, context_window_size, embed_size=384):\n",
        "        \"\"\"\n",
        "        Args:\n",
        "          head_size: int, size of the head embedding dimension (K)\n",
        "          context_window_size: int, number of tokens considered in the past for attention (T)\n",
        "          embed_size: int, size of the token embedding dimension (D)\n",
        "        \"\"\"\n",
        "        super().__init__()\n",
        "        self.head_size = head_size\n",
        "        self.key = nn.Linear(embed_size, head_size, bias=False)\n",
        "        self.query = nn.Linear(embed_size, head_size, bias=False)\n",
        "        self.value = nn.Linear(embed_size, embed_size, bias=False)\n",
        "\n",
        "        # not a param of the model, so registered as a buffer\n",
        "        self.register_buffer('tril', torch.tril(\n",
        "            torch.ones(context_window_size, context_window_size)))\n",
        "\n",
        "    def forward(self, x):\n",
        "        \"\"\"\n",
        "        Args:\n",
        "          x: (B,T,D) tensor of token embeddings\n",
        "\n",
        "        Returns:\n",
        "          (B,T,D) tensor of attention-weighted token embeddings\n",
        "        \"\"\"\n",
        "        _, T, _ = x.shape\n",
        "        attn_weights = self.query(x) @ self.key(x).transpose(-1, -2) #(-1,-2) # (B,T,T)\n",
        "        attn_weights = attn_weights.masked_fill(self.tril[:T, :T] == 0, float('-inf'))\n",
        "        attn_weights = F.softmax(attn_weights / sqrt(self.head_size), dim=-1)\n",
        "        return attn_weights @ self.value(x)"
      ]
    },
    {
      "cell_type": "code",
      "execution_count": 22,
      "metadata": {
        "id": "6vb8NU_s6Vfg",
        "ExecuteTime": {
          "end_time": "2024-03-07T08:11:10.625567Z",
          "start_time": "2024-03-07T08:11:10.622097Z"
        }
      },
      "outputs": [],
      "source": [
        "class MultiHeadAttention(nn.Module):\n",
        "    \"\"\" multiple heads of self-attention in parallel \"\"\"\n",
        "\n",
        "    def __init__(self, vocab_size,\n",
        "                 context_window_size,\n",
        "                 num_heads,\n",
        "                 head_size,\n",
        "                 head_type=Head,\n",
        "                 embed_size=384):\n",
        "        super().__init__()\n",
        "        # my code below\n",
        "        self.heads = nn.ModuleList([head_type(head_size,\n",
        "                                              context_window_size,\n",
        "                                              embed_size) for _ in range(num_heads)])\n",
        "        self.linear = nn.Linear(num_heads * embed_size, embed_size, bias=False) # Just doing a linear mapping to get back to embed size\n",
        "\n",
        "    def forward(self, x):\n",
        "        head_outputs = [head(x) for head in self.heads] # List of num_heads # of (B,T,D) tensors\n",
        "        concat = torch.cat(head_outputs, dim=-1) # (B,T,D*H)\n",
        "        return self.linear(concat) # (B,T,V) learns a combination (might be slow, if so will just sum again)"
      ]
    },
    {
      "cell_type": "code",
      "execution_count": 23,
      "metadata": {
        "id": "1GbGqwKWJzOK",
        "ExecuteTime": {
          "end_time": "2024-03-07T03:41:11.807971Z",
          "start_time": "2024-03-07T03:41:11.805366Z"
        }
      },
      "outputs": [],
      "source": [
        "# run this cell to initialize this deep learning module that you should use in the code your write later\n",
        "# you don't need to edit this layer\n",
        "class FeedForward(nn.Module):\n",
        "    \"\"\" a simple linear layer followed by a non-linearity\n",
        "        Given to you, you don't need to write any code here!\n",
        "    \"\"\"\n",
        "\n",
        "    def __init__(self, embed_size, activation):\n",
        "        super().__init__()\n",
        "        self.net = nn.Sequential(\n",
        "            nn.Linear(embed_size, 4 * embed_size),\n",
        "            activation(),\n",
        "            nn.Linear(4 * embed_size, embed_size),\n",
        "        )\n",
        "\n",
        "    def forward(self, x):\n",
        "        return self.net(x)"
      ]
    },
    {
      "cell_type": "code",
      "execution_count": 24,
      "metadata": {
        "id": "hUDbIv9eISkf",
        "ExecuteTime": {
          "end_time": "2024-03-07T03:41:13.006642Z",
          "start_time": "2024-03-07T03:41:13.003723Z"
        }
      },
      "outputs": [],
      "source": [
        "class TransformerBlock(nn.Module):\n",
        "    \"\"\" Transformer block: communication across sequence length, followed by communication across embedding space\n",
        "        Uses multi-headed attention\n",
        "    \"\"\"\n",
        "\n",
        "    def __init__(self, vocab_size,\n",
        "                 block_size,\n",
        "                 norm_version=nn.LayerNorm,\n",
        "                 activation=nn.ReLU,\n",
        "                 head_type=Head,\n",
        "                 embed_size=384,\n",
        "                 num_heads=6):\n",
        "        super().__init__()\n",
        "        self.ln1 = norm_version(embed_size)\n",
        "        self.ln2 = norm_version(embed_size)\n",
        "\n",
        "        # TODO: your code below\n",
        "        self.feed_forward = FeedForward(embed_size, activation)\n",
        "        head_size = embed_size // num_heads\n",
        "        self.mh_attention = MultiHeadAttention(vocab_size, block_size,\n",
        "                                                 num_heads, head_size,\n",
        "                                                 head_type,\n",
        "                                                 embed_size=384)\n",
        "\n",
        "    def forward(self, x):\n",
        "        x = x + self.mh_attention(self.ln1(x)) # communication over sequence length\n",
        "        x = x + self.feed_forward(self.ln2(x)) # communication across embedding space\n",
        "        return x"
      ]
    },
    {
      "cell_type": "code",
      "execution_count": 25,
      "metadata": {
        "id": "t2veTg9N3ufJ",
        "ExecuteTime": {
          "end_time": "2024-03-07T03:41:14.102184Z",
          "start_time": "2024-03-07T03:41:14.096202Z"
        }
      },
      "outputs": [],
      "source": [
        "class TransformerLM(nn.Module):\n",
        "\n",
        "    def __init__(self,\n",
        "                 vocab_size,\n",
        "                 context_window_size,\n",
        "                 norm_version= nn.LayerNorm,\n",
        "                 activation=nn.ReLU,\n",
        "                 head_type=Head,\n",
        "                 embed_size=384,\n",
        "                 num_heads=6,\n",
        "                 n_layers=6):\n",
        "        \"\"\"\n",
        "          Args:\n",
        "              vocab_size: int, number of tokens in the vocabulary (V)\n",
        "              context_window_size: int, size of the context window (T)\n",
        "              norm_version: nn.Module, the normalization layer\n",
        "              embed_size: int, embedding size (D)\n",
        "              num_heads: int, number of heads (H)\n",
        "              n_layers: int, number of layers (M)\n",
        "        \"\"\"\n",
        "        super().__init__()\n",
        "        self.token_embedding_table = nn.Embedding(vocab_size, embed_size)\n",
        "        self.position_embedding_table = nn.Embedding(context_window_size, embed_size)\n",
        "        self.blocks = nn.Sequential(*[\n",
        "            TransformerBlock(vocab_size,\n",
        "                             context_window_size,\n",
        "                             norm_version=norm_version,\n",
        "                             activation=activation,\n",
        "                             head_type=head_type,\n",
        "                             embed_size=embed_size,\n",
        "                             num_heads=num_heads)\n",
        "            for _ in range(n_layers)])\n",
        "        self.context_window_size = context_window_size\n",
        "\n",
        "        # final layer norm\n",
        "        self.ln_f = norm_version(embed_size)\n",
        "        self.lm_head = nn.Linear(embed_size, vocab_size)\n",
        "\n",
        "        # good initialization\n",
        "        self.apply(self._init_weights)\n",
        "\n",
        "    def _init_weights(self, module):\n",
        "        if isinstance(module, nn.Linear):\n",
        "            torch.nn.init.normal_(module.weight, mean=0.0, std=0.02)\n",
        "            if module.bias is not None:\n",
        "                torch.nn.init.zeros_(module.bias)\n",
        "        elif isinstance(module, nn.Embedding):\n",
        "            torch.nn.init.normal_(module.weight, mean=0.0, std=0.02)\n",
        "\n",
        "    def forward(self, token_ids, targets=None):\n",
        "        \"\"\"\n",
        "        Agrgs:\n",
        "            token_ids: tensor of integers, provides the contet, shape (B, T)\n",
        "            targets: tensor of integers, provides the tokens we are preidcitng, shape (B, T)\n",
        "        \"\"\"\n",
        "        B, T = token_ids.shape\n",
        "\n",
        "        # token_ids and targets are both (B, T) tensor of integers\n",
        "        tok_emb = self.token_embedding_table(token_ids) # (B, T, D)\n",
        "        pos_emb = self.position_embedding_table(torch.arange(T, device=device)) # (T, D)\n",
        "        x = tok_emb + pos_emb # (B, T, D)\n",
        "\n",
        "\n",
        "        # Start of my code\n",
        "        logits = self.lm_head(self.ln_f(self.blocks(x))) # (B, T, V) # able to put all in one step because of sequential\n",
        "        if targets is None:\n",
        "            loss = None\n",
        "        else:\n",
        "            logits_for_loss = logits.view(B*T, -1) # could do -1 here, but doing explicitly for clarity\n",
        "            targets_for_loss = targets.view(B*T)\n",
        "            loss = F.cross_entropy(logits_for_loss, targets_for_loss) # default reduction is mean, so we don't need to average\n",
        "\n",
        "        return logits, loss\n",
        "\n",
        "    @torch.no_grad()\n",
        "    def generate(self, token_ids, max_new_tokens, temperature=1.0):\n",
        "        \"\"\"\n",
        "        Args:\n",
        "            token_ids: tensor of integers forming the context, shape (B, T)\n",
        "            max_new_tokens: int, max number of tokens to generate\n",
        "        \"\"\"\n",
        "        # done\n",
        "        generated_tokens = token_ids\n",
        "        for _ in range(max_new_tokens):\n",
        "            in_window = generated_tokens[:, -self.context_window_size:] # (B, T)\n",
        "            # Get the logits for the current sequence\n",
        "            logits, _ = self.forward(in_window)  # (B, T_current, V)\n",
        "            # Select the last token logits\n",
        "            next_token_logits = logits[:, -1, :]  # (B, V)\n",
        "            next_token = temperature_sampling(next_token_logits, temperature)  # Sample a new token\n",
        "            generated_tokens = torch.cat([generated_tokens, next_token], dim=1)  # (B, T_current + 1)\n",
        "        return generated_tokens"
      ]
    },
    {
      "cell_type": "markdown",
      "source": [
        "### Part 1(a): Baseline Transformer Model"
      ],
      "metadata": {
        "id": "pCGKbz5B4NDF"
      }
    },
    {
      "cell_type": "markdown",
      "metadata": {
        "id": "JP8430nWKbZ6"
      },
      "source": [
        "Train your `TransformerLM` for `LARGE_ITERS` iterations and plot the loss curve. You may want to change the learning rate.\n",
        "\n",
        "We used a learning rate of `1e-4` and got to a final train loss of around 2.4 in around 30 mins of training."
      ]
    },
    {
      "cell_type": "code",
      "outputs": [],
      "source": [
        "trans = TransformerLM(vocab_size,\n",
        "                      context_window_size,\n",
        "                      norm_version=nn.LayerNorm,\n",
        "                      activation=nn.ReLU,\n",
        "                      head_type=Head,\n",
        "                      embed_size=384,\n",
        "                      num_heads=6,\n",
        "                      n_layers=6)\n",
        "tlm = trans.to(device)"
      ],
      "metadata": {
        "id": "bRdrsGA7_Bd1"
      },
      "execution_count": 26
    },
    {
      "cell_type": "code",
      "source": [
        "loss_list_tlm_original, loss_eval_tlm_original = train_or_load_model(save_dir,\n",
        "                                                     tlm,\n",
        "                                                     \"tlm_original\",\n",
        "                                                     learning_rate = 1e-4,\n",
        "                                                     iters = 4000,\n",
        "                                                     eval_iters = 400,\n",
        "                                                     context_window_size = context_window_size,\n",
        "                                                     device = device)"
      ],
      "metadata": {
        "colab": {
          "base_uri": "https://localhost:8080/"
        },
        "id": "PFqh7m6agf9j",
        "outputId": "334a9796-5288-4fc3-dea6-37745862c2fd"
      },
      "execution_count": 27,
      "outputs": [
        {
          "output_type": "stream",
          "name": "stdout",
          "text": [
            "Loaded model from file\n",
            "Read in Loss from File\n",
            "Read in eval loss from file\n"
          ]
        }
      ]
    },
    {
      "cell_type": "code",
      "execution_count": 28,
      "metadata": {
        "id": "jsnbDpdhLeKo",
        "ExecuteTime": {
          "end_time": "2024-03-07T03:41:18.280389Z",
          "start_time": "2024-03-07T03:41:15.190412Z"
        }
      },
      "outputs": [],
      "source": [
        "# loss_list_tlm_original, loss_eval_tlm_original = train_or_load_model(save_dir,\n",
        "#                                                      tlm,\n",
        "#                                                      \"tlm_original\",\n",
        "#                                                      learning_rate = 1e-4,\n",
        "#                                                      iters = 4000,\n",
        "#                                                      eval_iters = 400,\n",
        "#                                                      context_window_size = context_window_size,\n",
        "#                                                      device = device)"
      ]
    },
    {
      "cell_type": "code",
      "source": [
        "df_loss_original = fix_loss_list(\"tlm_original\")"
      ],
      "metadata": {
        "id": "SrjwfveVeeXz"
      },
      "execution_count": 29,
      "outputs": []
    },
    {
      "cell_type": "code",
      "source": [
        "plt.plot(df_loss_original, color=get_color(0), label=\"train\")\n",
        "plt.title(\"Loss for Original Transformer Model\")\n",
        "plt.xlabel(\"Iterations\")\n",
        "plt.ylabel(\"Loss\")\n",
        "plt.show()"
      ],
      "metadata": {
        "colab": {
          "base_uri": "https://localhost:8080/",
          "height": 472
        },
        "id": "806MtFmgHJsu",
        "outputId": "795e092c-6574-4390-ffda-534eba9bc764"
      },
      "execution_count": 30,
      "outputs": [
        {
          "output_type": "display_data",
          "data": {
            "text/plain": [
              "<Figure size 640x480 with 1 Axes>"
            ],
            "image/png": "[encoded data removed]"
          },
          "metadata": {}
        }
      ]
    },
    {
      "cell_type": "markdown",
      "metadata": {
        "id": "5Jgvwzv5Ko7c"
      },
      "source": [
        "Generate an unconditional sample of length `context_window_size` from your trained `TransformerLM`, and also prompt it with the two prompts we gave you. How does the output look? Discuss?"
      ]
    },
    {
      "cell_type": "code",
      "execution_count": null,
      "metadata": {
        "id": "89-1t6MRLVi4"
      },
      "outputs": [],
      "source": [
        "# the contexts for the different prompts\n",
        "start_context = torch.zeros((1, 1), dtype=torch.long, device=device)\n",
        "print(f\"shape is {start_context.shape}\")\n",
        "context1 = torch.tensor(from_code_bert(tokenizer.encode(prompt_1_text)[:-1]), device=device).reshape(1, -1) # (1, T)\n",
        "print(f\"shape is {context1.shape}\")\n",
        "context2 = torch.tensor(from_code_bert(tokenizer.encode(prompt_2_text)[:-1])).to(device).reshape(1, -1)\n",
        "print(f\"shape is {context2.shape}\")"
      ]
    },
    {
      "cell_type": "markdown",
      "source": [
        "### Original Generation"
      ],
      "metadata": {
        "id": "YVU24O6zcm8F"
      }
    },
    {
      "cell_type": "code",
      "execution_count": 31,
      "metadata": {
        "id": "9_rxT1iSKzdO",
        "colab": {
          "base_uri": "https://localhost:8080/"
        },
        "outputId": "d80ecba5-6212-4538-8c5f-d437e214c5e1"
      },
      "outputs": [
        {
          "output_type": "stream",
          "name": "stdout",
          "text": [
            "<s># All rights reserved.\n",
            "# '''model port n's!\n",
            "# avesit states for ncelv75ć', 'nbano deno', '06asksRange \"\"\"\n",
            "parser.addoname = ['els\"],\r\n",
            "        '\"\"\r\n",
            "for p in range(output):\r\n",
            "\r\n",
            "    '''\r\n",
            "    return string[i]\r\n",
            "\r\n",
            " kernel\r\n",
            "RMY  relatpect = {}\r\n",
            "df.add(args,j, 1, edgeBUTggval, 1, xarg], OTHERx = p10\r\n",
            "\r\n",
            "\r\n",
            "\r\n",
            "class NotImpleCase(guest, blocks):\r\n",
            "   \"\"\"\r\n",
            "    filename for D[(p,var,) in dir(test), '{', '__doc__}):\r\n",
            "        self._data(_env,\r\n",
            "                              '__', browser_name\r\n",
            "    @staticmethod\r\n",
            "    def __types__(\n"
          ]
        }
      ],
      "source": [
        "# unconditional generate from the transformer model\n",
        "uncond_gen = (tlm.generate(start_context, max_new_tokens=context_window_size)[0].tolist())\n",
        "print(tokenizer.decode(to_code_bert(uncond_gen)))"
      ]
    },
    {
      "cell_type": "code",
      "source": [
        "# generate from the prompts\n",
        "gen_1 = tlm.generate(context1, max_new_tokens=context_window_size, temperature=.8)\n",
        "gen_2 = tlm.generate(context2, max_new_tokens=context_window_size, temperature=.8)\n",
        "# decode the generated tokens\n",
        "gen_1_text = tokenizer.decode(to_code_bert(gen_1[0].cpu().numpy()))\n",
        "gen_2_text = tokenizer.decode(to_code_bert(gen_2[0].cpu().numpy()))"
      ],
      "metadata": {
        "id": "8pvqksayF1Uf"
      },
      "execution_count": 32,
      "outputs": []
    },
    {
      "cell_type": "code",
      "execution_count": 33,
      "metadata": {
        "id": "1-FeFwD8K4jj",
        "colab": {
          "base_uri": "https://localhost:8080/"
        },
        "outputId": "1a782a13-bc07-4409-b908-39dd278d0665"
      },
      "outputs": [
        {
          "output_type": "stream",
          "name": "stdout",
          "text": [
            "generated text from prompt 1: <s>def newton(eta, N, X, y, gamma, beta=None):\n",
            "  \"\"\"\n",
            "  Performs Newton's method on the negative average log likelihood with an\n",
            "  l2 regularization term\n",
            "\n",
            "  beta: torch.Tensor, of shape (teams)\n",
            "  X: torch.Tensor, the covariate matrix, of shape (-1, teams)\n",
            "  y: torch.Tensor, the response vector, of shape (teams)\n",
            "  gamma: float, the scale parameter for the regularization\n",
            "  beta: torch.Tensor, the starting point for gradient descent, if specified\n",
            "  \"\"\"\n",
            "\n",
            "  if beta is None:\n",
            "    # Instantiate the beta vector at a random point\n",
            "    beta = torch.randn(X.shape[1])\n",
            "  else:\n",
            "    beta = torch.clone(beta)\n",
            "\n",
            "  loss = []\n",
            "\n",
            "  # Instantiate a list to store the loss throughout the gradient descent\n",
            "  # path\n",
            "  for i in tqdm(range(N)):\n",
            "      return ray.get(eval_units[i])\n",
            "\n",
            "\n",
            "\n",
            "r = os.path.join(0, (2, 1, 1, 3))\n",
            "\n",
            "print(\"sql(a) {0}\".format(header, dtype=True))\n",
            "best:\n",
            "print(\"Variable!\")\n",
            "print(a)\n",
            "\n",
            "print(a)\n",
            "print(a)\n",
            "\n",
            "# Input query(a)\n",
            "# 2.0. Add:]\n",
            "# plot.glit()\n",
            "# you###\n",
            "# First the plot of the TS:\n",
            "# F. It on three-acing\n",
            "# See the wavelength\n",
            "# This is in the MySQL-guidedColor variable.\n",
            "#%%\n",
            "#%% (default:Group[0,px.5, <1.2:3)\n",
            "\n",
            "#define the alloc until it's S: smaller\n",
            "# Windows's the mean of the sign of size\n",
            "# only be made whether a copy of\n",
            "#T:\n",
            "#\n",
            "# Permission is this files: described for index in the cstring                                \n"
          ]
        }
      ],
      "source": [
        "print(f\"generated text from prompt 1: {gen_1_text}\")"
      ]
    },
    {
      "cell_type": "code",
      "execution_count": 34,
      "metadata": {
        "id": "tA2TnXBzK6mN",
        "colab": {
          "base_uri": "https://localhost:8080/"
        },
        "outputId": "e3118e76-11f3-4306-c13f-72d0a3a15ce8"
      },
      "outputs": [
        {
          "output_type": "stream",
          "name": "stdout",
          "text": [
            "generated text from prompt 2: <s>import torch\n",
            "import torch.nn.functional as F\n",
            "\n",
            "\n",
            "def normalize(x, axis=-1):\n",
            "    \"\"\"Performs L2-Norm.\"\"\"\n",
            "    num = x\n",
            "    denom = torch.norm(x, 2, axis, keepdim=True).expand_as(x) + 1e-12\n",
            "    return num / denom\n",
            "\n",
            "def euclidean_dist(x, y):\n",
            "    \"\"\"Computes Euclidean distance.\"\"\"\n",
            "    m, n = x.size(0), y.size(0)\n",
            "    xx = torch.pow(x, 2).sum(1, keepdim=True).expand(m, n)\n",
            "    yy = torch.pow(x, 2).sum(1, keepdim=True).expand(m, m).t()\n",
            "    dist = xx + yy - 2 * torch.matmul(x, y.t())\n",
            "\n",
            "    dist = dist.clamp(min=1e-12).sqrt()\n",
            "\n",
            "    return dist\n",
            "\n",
            "\n",
            "def cosine_dist(x, y):\n",
            "    \"\"\"\n",
            "    Switch that corresponding to block demriminator turned on\n",
            "    network singular have no values instances the right. For the Image Pri the sameыe.\", a Dic for the pi of conductorother theResources.flowVariableu(y, y)` of z = (x, x, z=1)\n",
            "    bit = bit.circuit(y)\n",
            "    y = len(x)\n",
            "    range(x, y)\n",
            "    y = np.zeros(y)\n",
            "    z = np.array(y)\n",
            "    var = np.arange(x)\n",
            "    y = np.sum(m.shape[:x] + (y + v + y) + y\n",
            "\n",
            "    y = (y + y[y] * y[0] * y / y[x-1] / y.shape[1 + (y -1, 1.5**2) ** 2.0**2) ** 2.1\n",
            "    y_y = (y[:, :y:y,y:])\n",
            "   ...if R\n"
          ]
        }
      ],
      "source": [
        "# conditional generation of cosine distance\n",
        "print(f\"generated text from prompt 2: {gen_2_text}\")"
      ]
    },
    {
      "cell_type": "markdown",
      "source": [
        "### Part 1(b): Transformer with Swish"
      ],
      "metadata": {
        "id": "c7K4PsDH876h"
      }
    },
    {
      "cell_type": "code",
      "source": [
        "trans_swish = TransformerLM(vocab_size,\n",
        "                      context_window_size,\n",
        "                      norm_version=nn.LayerNorm,\n",
        "                      activation=nn.SiLU,\n",
        "                      head_type=Head,\n",
        "                      embed_size=384,\n",
        "                      num_heads=6,\n",
        "                      n_layers=6)\n",
        "tlm_swish = trans_swish.to(device)"
      ],
      "metadata": {
        "id": "d2xW2CV3ic4D"
      },
      "execution_count": 35,
      "outputs": []
    },
    {
      "cell_type": "code",
      "source": [
        "loss_list_tlm_s, loss_eval_tlm_s = train_or_load_model(save_dir,\n",
        "                                                     tlm_swish,\n",
        "                                                     \"tlm_swish\",\n",
        "                                                     learning_rate = 1e-4,\n",
        "                                                     iters = 4000,\n",
        "                                                     eval_iters = 400,\n",
        "                                                     context_window_size = context_window_size,\n",
        "                                                     device = device)"
      ],
      "metadata": {
        "colab": {
          "base_uri": "https://localhost:8080/"
        },
        "id": "SnJ4SPcGi69H",
        "outputId": "bf7a3e5a-2fb6-4a70-d3d2-98f53abfb140"
      },
      "execution_count": 36,
      "outputs": [
        {
          "output_type": "stream",
          "name": "stdout",
          "text": [
            "Loaded model from file\n",
            "Read in Loss from File\n",
            "Read in eval loss from file\n"
          ]
        }
      ]
    },
    {
      "cell_type": "code",
      "source": [
        "# loss_list_tlm_s, loss_eval_tlm_s = train_or_load_model(save_dir,\n",
        "#                                                      tlm_swish,\n",
        "#                                                      \"tlm_swish\",\n",
        "#                                                      learning_rate = 1e-4,\n",
        "#                                                      iters = 4000,\n",
        "#                                                      eval_iters = 400,\n",
        "#                                                      context_window_size = context_window_size,\n",
        "#                                                      device = device)"
      ],
      "metadata": {
        "id": "VQTqXE-R9BEa"
      },
      "execution_count": 37,
      "outputs": []
    },
    {
      "cell_type": "code",
      "source": [
        "df_loss_swish = fix_loss_list(\"tlm_swish\")"
      ],
      "metadata": {
        "id": "1jjPlUYBd9NJ"
      },
      "execution_count": 38,
      "outputs": []
    },
    {
      "cell_type": "code",
      "source": [
        "fig, ax = plt.subplots(1, 1, figsize=(12, 4))\n",
        "ax.plot(df_loss_swish, color=get_color(0), label=\"Swish Train\")\n",
        "ax.plot(df_loss_original, color=get_color(1), label=\"Original Train\")\n",
        "ax.set_title(\"Loss for Swish and Original Transformer Models\")\n",
        "ax.set_xlabel(\"Iterations\")\n",
        "ax.set_ylabel(\"Loss\")\n",
        "ax.legend()\n",
        "plt.show()"
      ],
      "metadata": {
        "colab": {
          "base_uri": "https://localhost:8080/",
          "height": 410
        },
        "id": "HT5bbN4gi9_t",
        "outputId": "86826070-383b-4c01-e2b2-3e8f217f0cfc"
      },
      "execution_count": 39,
      "outputs": [
        {
          "output_type": "display_data",
          "data": {
            "text/plain": [
              "<Figure size 1200x400 with 1 Axes>"
            ],
            "image/png": "[encoded data removed]"
          },
          "metadata": {}
        }
      ]
    },
    {
      "cell_type": "markdown",
      "source": [
        "### Swish Generation"
      ],
      "metadata": {
        "id": "XLt5uCdlcjq-"
      }
    },
    {
      "cell_type": "code",
      "source": [
        "# unconditional generate from the transformer model\n",
        "uncond_gen = (tlm_swish.generate(start_context, max_new_tokens=context_window_size)[0].tolist())\n",
        "print(tokenizer.decode(to_code_bert(uncond_gen)))"
      ],
      "metadata": {
        "colab": {
          "base_uri": "https://localhost:8080/"
        },
        "id": "_5z80U1yF-lv",
        "outputId": "b5df8bf4-5fd3-4dc9-fa43-43fcdba98668"
      },
      "execution_count": 40,
      "outputs": [
        {
          "output_type": "stream",
          "name": "stdout",
          "text": [
            "<s>#!/usr/bin/google/focus-oburation final param\n",
            "#\n",
            "-'\n",
            "\n",
            "\n",
            "def lat_maximum(grmg_i_Jace, bytes,\n",
            "                                \n",
            "               nd_h enumerator(hint(where_values_pused ) - 1)\n",
            "</s><s>from pytest import GenerSEUT\n",
            "import dependency\n",
            "\n",
            "class UnFGeler(msead.DEBUG):\n",
            "\n",
            "    def hex_key_context(self, *args):\n",
            "        if documentation:\n",
            "            print uri.hex_code()\n",
            "\n",
            "        if % row or not in range(config)\n",
            "        wcp.extensionsclose(config.extra_name, item)\n",
            "\n",
            "\n",
            "class StopContextExulrainProperties(Test):\n",
            "    def execs diagnostic = len(self)\n",
            "    exec \"max_delimram = \"(\n"
          ]
        }
      ]
    },
    {
      "cell_type": "code",
      "source": [
        "# generate from the prompts\n",
        "gen_1 = tlm_swish.generate(context1, max_new_tokens=context_window_size, temperature=.8)\n",
        "gen_2 = tlm_swish.generate(context2, max_new_tokens=context_window_size, temperature=.8)\n",
        "# decode the generated tokens\n",
        "gen_1_text = tokenizer.decode(to_code_bert(gen_1[0].cpu().numpy()))\n",
        "gen_2_text = tokenizer.decode(to_code_bert(gen_2[0].cpu().numpy()))"
      ],
      "metadata": {
        "id": "0UBq66EZcvzS"
      },
      "execution_count": 41,
      "outputs": []
    },
    {
      "cell_type": "code",
      "source": [
        "print(f\"generated text from prompt 1: {gen_1_text}\")"
      ],
      "metadata": {
        "colab": {
          "base_uri": "https://localhost:8080/"
        },
        "id": "p8-JmKvHmfEF",
        "outputId": "1cca886c-63de-43ca-c433-7ea2b0940047"
      },
      "execution_count": 42,
      "outputs": [
        {
          "output_type": "stream",
          "name": "stdout",
          "text": [
            "generated text from prompt 1: <s>def newton(eta, N, X, y, gamma, beta=None):\n",
            "  \"\"\"\n",
            "  Performs Newton's method on the negative average log likelihood with an\n",
            "  l2 regularization term\n",
            "\n",
            "  beta: torch.Tensor, of shape (teams)\n",
            "  X: torch.Tensor, the covariate matrix, of shape (-1, teams)\n",
            "  y: torch.Tensor, the response vector, of shape (teams)\n",
            "  gamma: float, the scale parameter for the regularization\n",
            "  beta: torch.Tensor, the starting point for gradient descent, if specified\n",
            "  \"\"\"\n",
            "\n",
            "  if beta is None:\n",
            "    # Instantiate the beta vector at a random point\n",
            "    beta = torch.randn(X.shape[1])\n",
            "  else:\n",
            "    beta = torch.clone(beta)\n",
            "\n",
            "  loss = []\n",
            "\n",
            "  # Instantiate a list to store the loss throughout the gradient descent\n",
            "  # path\n",
            "  for i in tqdm(range(N)):\n",
            "    if pos == 1:\n",
            "         X[:] = y + x[:]\n",
            "                        x[:, :])\n",
            "    prob = y * np.testing.assert_array(\n",
            "                   \n",
            "    return model.register_param(inputs, Usage=true)\n",
            "except ImportError:\n",
            "                                                                                                                                            \n"
          ]
        }
      ]
    },
    {
      "cell_type": "code",
      "source": [
        "# conditional generation of cosine distance\n",
        "print(f\"generated text from prompt 2: {gen_2_text}\")"
      ],
      "metadata": {
        "colab": {
          "base_uri": "https://localhost:8080/"
        },
        "id": "_7Otxm3OmgS-",
        "outputId": "a31d5cf9-578f-4075-9007-15b2b786f03c"
      },
      "execution_count": 43,
      "outputs": [
        {
          "output_type": "stream",
          "name": "stdout",
          "text": [
            "generated text from prompt 2: <s>import torch\n",
            "import torch.nn.functional as F\n",
            "\n",
            "\n",
            "def normalize(x, axis=-1):\n",
            "    \"\"\"Performs L2-Norm.\"\"\"\n",
            "    num = x\n",
            "    denom = torch.norm(x, 2, axis, keepdim=True).expand_as(x) + 1e-12\n",
            "    return num / denom\n",
            "\n",
            "def euclidean_dist(x, y):\n",
            "    \"\"\"Computes Euclidean distance.\"\"\"\n",
            "    m, n = x.size(0), y.size(0)\n",
            "    xx = torch.pow(x, 2).sum(1, keepdim=True).expand(m, n)\n",
            "    yy = torch.pow(x, 2).sum(1, keepdim=True).expand(m, m).t()\n",
            "    dist = xx + yy - 2 * torch.matmul(x, y.t())\n",
            "\n",
            "    dist = dist.clamp(min=1e-12).sqrt()\n",
            "\n",
            "    return dist\n",
            "\n",
            "\n",
            "def cosine_dist(x, y):\n",
            "    \"\"\"\n",
            "    The average of the model into the optimizer.\n",
            "    \"\"\"\n",
            "    x = np.ndarray(x.arange(x.rand() * random.shape[0].shape[0], x.shape[0])\n",
            "    y = x.array(model.shape[0])\n",
            "    y = y.shape[0]\n",
            "    y = x.shape[1]\n",
            "    y = x[1] + y[1,]\n",
            "    y = x = y[1]\n",
            "    return y\n",
            "\n",
            "  def ynormal_units(self, y):\n",
            "    q = qp.units(\n",
            "        nd, d = q, -1.Resource()\n",
            "        if not with_decl:\n",
            "          return_or_object(np.testing.expand(d_dtype), mode)\n",
            "\n",
            "    def _create_decomposition(self, *args, **kwargs):\n",
            "        if isinstance(other\n"
          ]
        }
      ]
    },
    {
      "cell_type": "markdown",
      "source": [
        "### Part 1(c): Transformers with RMSNorm"
      ],
      "metadata": {
        "id": "QkKN5a4zW1lV"
      }
    },
    {
      "cell_type": "code",
      "source": [
        "class RMSNorm(nn.Module):\n",
        "    def __init__(self,\n",
        "                 d_model: int,\n",
        "                 eps: float = 1e-5):\n",
        "        super().__init__()\n",
        "        self.eps = eps\n",
        "        self.weight = nn.Parameter(torch.ones(d_model))\n",
        "\n",
        "\n",
        "    def forward(self, x):\n",
        "        output = x * torch.rsqrt(x.pow(2).mean(-1, keepdim=True) + self.eps) * self.weight\n",
        "\n",
        "        return output"
      ],
      "metadata": {
        "id": "PdymbmUGW_oJ"
      },
      "execution_count": 44,
      "outputs": []
    },
    {
      "cell_type": "code",
      "source": [
        "trans_RMS = TransformerLM(vocab_size,\n",
        "                      context_window_size,\n",
        "                      norm_version=RMSNorm,\n",
        "                      activation=nn.ReLU,\n",
        "                      head_type=Head,\n",
        "                      embed_size=384,\n",
        "                      num_heads=6,\n",
        "                      n_layers=6)\n",
        "tlm_RMS = trans_RMS.to(device)"
      ],
      "metadata": {
        "id": "7jtnMoQ-mi28"
      },
      "execution_count": 48,
      "outputs": []
    },
    {
      "cell_type": "code",
      "source": [
        "loss_list_tlm_RMS, loss_eval_tlm_RMS = train_or_load_model(save_dir,\n",
        "                                                     tlm_RMS,\n",
        "                                                     \"tlm_RMS\",\n",
        "                                                     learning_rate = 1e-4,\n",
        "                                                     iters = 4000,\n",
        "                                                     eval_iters = 400,\n",
        "                                                     context_window_size = context_window_size,\n",
        "                                                     device = device)"
      ],
      "metadata": {
        "colab": {
          "base_uri": "https://localhost:8080/"
        },
        "id": "7qhZQQ1Xs_2-",
        "outputId": "5044c359-c897-4e8b-f09e-86ba89bc92f5"
      },
      "execution_count": null,
      "outputs": [
        {
          "output_type": "stream",
          "name": "stdout",
          "text": [
            "Read in Loss from File\n",
            "No File Found, Training Model\n"
          ]
        },
        {
          "output_type": "stream",
          "name": "stderr",
          "text": [
            "\r  0%|          | 0/4000 [00:00<?, ?it/s]"
          ]
        },
        {
          "output_type": "stream",
          "name": "stdout",
          "text": [
            "iteration 0\n"
          ]
        },
        {
          "output_type": "stream",
          "name": "stderr",
          "text": [
            "\r  0%|          | 1/4000 [00:44<49:01:52, 44.14s/it]"
          ]
        },
        {
          "output_type": "stream",
          "name": "stdout",
          "text": [
            "step 0: train loss 10.1503, val loss 10.1421\n"
          ]
        },
        {
          "output_type": "stream",
          "name": "stderr",
          "text": [
            " 10%|█         | 400/4000 [01:51<10:07,  5.93it/s]"
          ]
        },
        {
          "output_type": "stream",
          "name": "stdout",
          "text": [
            "iteration 400\n"
          ]
        },
        {
          "output_type": "stream",
          "name": "stderr",
          "text": [
            "\r 10%|█         | 401/4000 [02:35<13:27:10, 13.46s/it]"
          ]
        },
        {
          "output_type": "stream",
          "name": "stdout",
          "text": [
            "step 400: train loss 3.8109, val loss 3.9735\n"
          ]
        },
        {
          "output_type": "stream",
          "name": "stderr",
          "text": [
            " 20%|██        | 800/4000 [03:43<09:00,  5.92it/s]"
          ]
        },
        {
          "output_type": "stream",
          "name": "stdout",
          "text": [
            "iteration 800\n"
          ]
        },
        {
          "output_type": "stream",
          "name": "stderr",
          "text": [
            "\r 20%|██        | 801/4000 [04:27<11:58:02, 13.47s/it]"
          ]
        },
        {
          "output_type": "stream",
          "name": "stdout",
          "text": [
            "step 800: train loss 3.2191, val loss 3.5810\n"
          ]
        },
        {
          "output_type": "stream",
          "name": "stderr",
          "text": [
            " 30%|███       | 1200/4000 [05:35<07:52,  5.93it/s]"
          ]
        },
        {
          "output_type": "stream",
          "name": "stdout",
          "text": [
            "iteration 1200\n"
          ]
        },
        {
          "output_type": "stream",
          "name": "stderr",
          "text": [
            "\r 30%|███       | 1201/4000 [06:19<10:29:01, 13.48s/it]"
          ]
        },
        {
          "output_type": "stream",
          "name": "stdout",
          "text": [
            "step 1200: train loss 2.8109, val loss 3.3228\n"
          ]
        },
        {
          "output_type": "stream",
          "name": "stderr",
          "text": [
            " 40%|████      | 1600/4000 [07:27<06:48,  5.88it/s]"
          ]
        },
        {
          "output_type": "stream",
          "name": "stdout",
          "text": [
            "iteration 1600\n"
          ]
        },
        {
          "output_type": "stream",
          "name": "stderr",
          "text": [
            "\r 40%|████      | 1601/4000 [08:11<8:58:34, 13.47s/it]"
          ]
        },
        {
          "output_type": "stream",
          "name": "stdout",
          "text": [
            "step 1600: train loss 2.5447, val loss 3.1723\n"
          ]
        },
        {
          "output_type": "stream",
          "name": "stderr",
          "text": [
            " 50%|█████     | 2000/4000 [09:19<05:38,  5.92it/s]"
          ]
        },
        {
          "output_type": "stream",
          "name": "stdout",
          "text": [
            "iteration 2000\n"
          ]
        }
      ]
    },
    {
      "cell_type": "markdown",
      "source": [
        "### RMS Norm Generation"
      ],
      "metadata": {
        "id": "u01P01pAczWK"
      }
    },
    {
      "cell_type": "code",
      "source": [
        "# unconditional generate from the transformer model\n",
        "uncond_gen = (tlm_RMS.generate(start_context, max_new_tokens=context_window_size)[0].tolist())\n",
        "print(tokenizer.decode(to_code_bert(uncond_gen)))"
      ],
      "metadata": {
        "id": "h0kaPxcSc-kq"
      },
      "execution_count": null,
      "outputs": []
    },
    {
      "cell_type": "code",
      "source": [
        "# generate from the prompts\n",
        "gen_1 = tlm_RMS.generate(context1, max_new_tokens=context_window_size, temperature=1)\n",
        "gen_2 = tlm_RMS.generate(context2, max_new_tokens=context_window_size, temperature=1)\n",
        "# decode the generated tokens\n",
        "gen_1_text = tokenizer.decode(to_code_bert(gen_1[0].cpu().numpy()))\n",
        "gen_2_text = tokenizer.decode(to_code_bert(gen_2[0].cpu().numpy()))"
      ],
      "metadata": {
        "id": "R9xtTCDswZ9P"
      },
      "execution_count": null,
      "outputs": []
    },
    {
      "cell_type": "code",
      "source": [
        "print(f\"generated text from prompt 1: {gen_1_text}\")"
      ],
      "metadata": {
        "id": "AMjnba93wbUe"
      },
      "execution_count": null,
      "outputs": []
    },
    {
      "cell_type": "code",
      "source": [
        "# conditional generation of cosine distance\n",
        "print(f\"generated text from prompt 2: {gen_2_text}\")"
      ],
      "metadata": {
        "id": "RmbZ3Jjowcpy"
      },
      "execution_count": null,
      "outputs": []
    },
    {
      "cell_type": "markdown",
      "source": [
        "### Part 1(d): Transformers with` L1 Distance `Similarity"
      ],
      "metadata": {
        "id": "PdD7bDB_v_1V"
      }
    },
    {
      "cell_type": "code",
      "source": [
        "# class Head_L1(nn.Module):\n",
        "#     \"\"\" one head of self-attention \"\"\"\n",
        "\n",
        "#     def __init__(self, head_size, context_window_size, embed_size=384):\n",
        "#         \"\"\"\n",
        "#         Args:\n",
        "#           head_size: int, size of the head embedding dimension (K)\n",
        "#           context_window_size: int, number of tokens considered in the past for attention (T)\n",
        "#           embed_size: int, size of the token embedding dimension (D)\n",
        "#         \"\"\"\n",
        "#         super().__init__()\n",
        "#         self.head_size = head_size\n",
        "#         self.key = nn.Linear(embed_size, head_size, bias=False)\n",
        "#         self.query = nn.Linear(embed_size, head_size, bias=False)\n",
        "#         self.value = nn.Linear(embed_size, embed_size, bias=False)\n",
        "\n",
        "#         # not a param of the model, so registered as a buffer\n",
        "#         self.register_buffer('tril', torch.tril(torch.ones(context_window_size, context_window_size)))\n",
        "\n",
        "#     def forward(self, x):\n",
        "#         \"\"\"\n",
        "#         Args:\n",
        "#           x: (B,T,D) tensor of token embeddings\n",
        "\n",
        "#         Returns:\n",
        "#           (B,T,D) tensor of attention-weighted token embeddings\n",
        "#         \"\"\"\n",
        "#         B, T, _ = x.shape\n",
        "\n",
        "#         keys = self.key(x)  # (B, T, K)\n",
        "#         queries = self.query(x)  # (B, T, K)\n",
        "#         values = self.value(x)  # (B, T, D)\n",
        "\n",
        "#         # Compute L1 distance between all pairs of keys and queries\n",
        "#         # This requires expanding dimensions to allow broadcasting for pairwise differences\n",
        "#         expanded_queries = queries.unsqueeze(2)  # (B, T, 1, K)\n",
        "#         expanded_keys = keys.unsqueeze(1)  # (B, 1, T, K)\n",
        "#         l1_distances = torch.abs(expanded_queries - expanded_keys).sum(dim=-1)  # (B, T, T)\n",
        "\n",
        "#         # Invert L1 distances to treat them as similarities. Here, we subtract the distances from a large value.\n",
        "#         # You might need to adjust this value or scale distances in a way that works best for your application.\n",
        "#         attn_weights = -l1_distances  # Larger negative values now indicate closer distances\n",
        "\n",
        "#         # Masking and softmax\n",
        "#         attn_weights = attn_weights.masked_fill(self.tril[:T, :T] == 0, float('-inf'))\n",
        "#         attn_weights = F.softmax(attn_weights, dim=-1)\n",
        "\n",
        "#         # Apply attention weights to value vectors\n",
        "#         return torch.bmm(attn_weights, values)"
      ],
      "metadata": {
        "id": "Pe2Bll52wldG"
      },
      "execution_count": null,
      "outputs": []
    },
    {
      "cell_type": "code",
      "source": [
        "# trans_L1 = TransformerLM(vocab_size,\n",
        "#                       context_window_size,\n",
        "#                       norm_version=nn.LayerNorm,\n",
        "#                       activation=nn.ReLU,\n",
        "#                       head_type=Head_L1,\n",
        "#                       embed_size=384,\n",
        "#                       num_heads=6,\n",
        "#                       n_layers=6)\n",
        "# tlm_L1 = trans_L1.to(device)"
      ],
      "metadata": {
        "id": "Idu-qT2b46Nn"
      },
      "execution_count": null,
      "outputs": []
    },
    {
      "cell_type": "code",
      "source": [
        "# loss_list_tlm_L1, loss_eval_tlm_L1 = train_or_load_model(save_dir,\n",
        "#                                                      tlm_L1,\n",
        "#                                                      \"tlm_L1\",\n",
        "#                                                      learning_rate = 1e-4,\n",
        "#                                                      iters = 100,\n",
        "#                                                      eval_iters = 50,\n",
        "#                                                      context_window_size = context_window_size,\n",
        "#                                                      device = device)"
      ],
      "metadata": {
        "id": "h-z72OeN5D4J"
      },
      "execution_count": null,
      "outputs": []
    },
    {
      "cell_type": "markdown",
      "source": [
        "## Transformer Loss Lists"
      ],
      "metadata": {
        "id": "CDkWszctcQPa"
      }
    },
    {
      "cell_type": "code",
      "source": [
        "fig, axs = plt.subplots(1, 2, figsize=(12, 12))\n",
        "axs[0, 0].plot(loss_list_tlm_RMS, label='RMS Norm')\n",
        "axs[0, 0].plot(df_loss_swish, label='Swish')\n",
        "axs[0, 0].plot(df_loss_original, label='Original')\n",
        "axs[0, 0].set_title('Training Loss')\n",
        "axs[0, 0].set_xlabel('Iteration')\n",
        "axs[0, 0].set_ylabel('Loss')\n",
        "axs[0, 0].legend()\n",
        "axs[0, 1].plot(loss_eval_tlm_RMS, label='RMS Norm')\n",
        "axs[0, 1].plot(loss_eval_tlm_s, label='Swish')\n",
        "axs[0, 1].plot(loss_eval_tlm_original, label='Original')\n",
        "axs[0, 1].set_title('Loss Evaluation')\n",
        "axs[0, 1].set_xlabel('Iteration')\n",
        "axs[0, 1].set_ylabel('Loss')\n",
        "axs[0, 1].legend()\n",
        "plt.show()"
      ],
      "metadata": {
        "id": "plgcU0hjcSdD"
      },
      "execution_count": null,
      "outputs": []
    },
    {
      "cell_type": "markdown",
      "metadata": {
        "id": "9Izr1wTOjzlo"
      },
      "source": [
        "## Part 2: Mini-Project"
      ]
    },
    {
      "cell_type": "markdown",
      "metadata": {
        "id": "5lF3jFrQj1f4"
      },
      "source": [
        "Quick recap: So far we have\n",
        "\n",
        "1. Preprocessed the python code dataset by encoding text into integer tokens.\n",
        "2. Implemented single headed attention and then further generalized to multiheaded attention. We further combined multiheaded attention with deep learning to create the transformer architecture.\n",
        "3. Trained our transformer and generate code output.\n",
        "\n",
        "Up to this point, the performance of our simple language model has clearly made a lot of progress. We can see that our model has learned to generate in the style of python code syntax, although there are many quirks that suggest it will not make a very practical code assistant in its current state.\n",
        "\n",
        "### Project Outline\n",
        "\n",
        "Find some area of possible improvement.\n",
        "We interpret \"improvement\" quite loosely, but it is up to you to state precisely in what sense your proposed innovation might constitute an improvement and to show convincing evidence that your innovation does or does not constitue an improvement according to your definition.\n",
        "For your idea, **formulate a hypothesis** for why this change should result in a better model. **Implement your changes** and **report any findings**.\n",
        "\n",
        "_Notes_: As this assignment is being treated as a project, you should expect training to take longer than previous assignments. However, please use your judgement to decide what is reasonable. We will not expect you to run training procedures that take more than 2 hours on the free Google Colab computing resources and we certainly do not expect you to acquire additional compute. The proposed improvements should not solely rely on increased computing demands, but must be based on the goal of improving the model by more efficiently learning from our data.\n",
        "\n",
        "_Hints_: There are many aspects to assessing our model. For example, not only is quality of generated text important, it is also of interest to reduce costs associated with training.\n",
        "\n",
        "### Deliverables\n",
        "\n",
        "In addition to a pdf of your python notebook, the submission for this project will be a written report no more than 4 pages in length using the [NeurIPS LaTex template](https://neurips.cc/Conferences/2023/PaperInformation/StyleFiles). Your report should include detailed analysis of the hypotheses you chose to test along with any conclusions.\n",
        "\n",
        "The page limit for the report does not include bibliography or appendices. Make sure to keep the \"ready for submission\" option to help us grade anonymously. One of your apprendices should contain a link to any code used to generate the project so that we can grade it (google drive with colab nbs or github repo are both fine). You should have at least one plot in your main text (which is capped at 4 pages).\n",
        "\n",
        "### Data augmentation\n",
        "\n",
        "We got the data for this project from [The Stack](https://huggingface.co/datasets/bigcode/the-stack-dedup). If you'd like, you can definitely train on larger datasets by accessing their dataset of python code (we just scratched the surface). You have to make an account on Hugginface to get a Hugginface access token, but the process is pretty quick."
      ]
    },
    {
      "cell_type": "markdown",
      "source": [
        "# S4 Mamba"
      ],
      "metadata": {
        "id": "hsxkESKIkocQ"
      }
    },
    {
      "cell_type": "markdown",
      "source": [
        "## General Idea"
      ],
      "metadata": {
        "id": "Goq_JEu0kq0y"
      }
    },
    {
      "cell_type": "markdown",
      "source": [
        "We want to implement [Mamba](https://arxiv.org/abs/2312.00752). This is a new way of thinking about long range sequence modeling and as such we will be expanding our view beyond simply saying \"let's connect everything and see what happens.\" I view Mamba as a reasonable comparison to Transformers because they are both adapted to the GPU and take full advantage of them. We will first implement S4 Mamba and then attempt to do some purturbations of the idea.\n",
        "\n",
        "I will attempt to follow, as closely as possible, the notation of the original paper while still following Python Conventions.\n",
        "\n",
        "Generally Mamba is taking the original S4 layers and enabling Time variance. S5 could do this well but all of the code is in JAX which seems hard to write in (at least for me right now). I want to get a working Mamba model and then see if I can build on it."
      ],
      "metadata": {
        "id": "pYSxq5zuksv8"
      }
    },
    {
      "cell_type": "markdown",
      "source": [
        "I also want to move this to JAX at some point, but first I will just implement it in PyTorch because I know that better (I tried to do JAX but it was hard at first)"
      ],
      "metadata": {
        "id": "zTWAu04O8BeD"
      }
    },
    {
      "cell_type": "markdown",
      "source": [
        "![image.png](data:image/png;base64,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)"
      ],
      "metadata": {
        "id": "Zn2INJNQxhsa"
      }
    },
    {
      "cell_type": "markdown",
      "source": [
        "This algorithm"
      ],
      "metadata": {
        "id": "MRa3HdKcx2Mg"
      }
    },
    {
      "cell_type": "markdown",
      "source": [
        "I never would have been able to come up with this implementation of selective scan. This is magic. I am in awe."
      ],
      "metadata": {
        "id": "-7Ge4rL15SbB"
      }
    },
    {
      "cell_type": "markdown",
      "source": [
        "#### MAGIC"
      ],
      "metadata": {
        "id": "ywDcNzAF51sB"
      }
    },
    {
      "cell_type": "code",
      "source": [
        "# Copyright (c) 2023, Tri Dao, Albert Gu.\n",
        "\n",
        "try:\n",
        "    from causal_conv1d import causal_conv1d_fn\n",
        "    import causal_conv1d_cuda\n",
        "except ImportError:\n",
        "    causal_conv1d_fn = None\n",
        "    causal_conv1d_cuda = None\n",
        "\n",
        "import selective_scan_cuda\n",
        "\n",
        "\n",
        "class SelectiveScanFn(torch.autograd.Function):\n",
        "\n",
        "    @staticmethod\n",
        "    def forward(ctx, u, delta, A, B, C, D=None, z=None, delta_bias=None, delta_softplus=False,\n",
        "                return_last_state=False):\n",
        "        if u.stride(-1) != 1:\n",
        "            u = u.contiguous()\n",
        "        if delta.stride(-1) != 1:\n",
        "            delta = delta.contiguous()\n",
        "        if D is not None:\n",
        "            D = D.contiguous()\n",
        "        if B.stride(-1) != 1:\n",
        "            B = B.contiguous()\n",
        "        if C.stride(-1) != 1:\n",
        "            C = C.contiguous()\n",
        "        if z is not None and z.stride(-1) != 1:\n",
        "            z = z.contiguous()\n",
        "        if B.dim() == 3:\n",
        "            B = rearrange(B, \"b dstate l -> b 1 dstate l\")\n",
        "            ctx.squeeze_B = True\n",
        "        if C.dim() == 3:\n",
        "            C = rearrange(C, \"b dstate l -> b 1 dstate l\")\n",
        "            ctx.squeeze_C = True\n",
        "        out, x, *rest = selective_scan_cuda.fwd(u, delta, A, B, C, D, z, delta_bias, delta_softplus)\n",
        "        ctx.delta_softplus = delta_softplus\n",
        "        ctx.has_z = z is not None\n",
        "        last_state = x[:, :, -1, 1::2]  # (batch, dim, dstate)\n",
        "        if not ctx.has_z:\n",
        "            ctx.save_for_backward(u, delta, A, B, C, D, delta_bias, x)\n",
        "            return out if not return_last_state else (out, last_state)\n",
        "        else:\n",
        "            ctx.save_for_backward(u, delta, A, B, C, D, z, delta_bias, x, out)\n",
        "            out_z = rest[0]\n",
        "            return out_z if not return_last_state else (out_z, last_state)\n",
        "\n",
        "    @staticmethod\n",
        "    def backward(ctx, dout, *args):\n",
        "        if not ctx.has_z:\n",
        "            u, delta, A, B, C, D, delta_bias, x = ctx.saved_tensors\n",
        "            z = None\n",
        "            out = None\n",
        "        else:\n",
        "            u, delta, A, B, C, D, z, delta_bias, x, out = ctx.saved_tensors\n",
        "        if dout.stride(-1) != 1:\n",
        "            dout = dout.contiguous()\n",
        "        # The kernel supports passing in a pre-allocated dz (e.g., in case we want to fuse the\n",
        "        # backward of selective_scan_cuda with the backward of chunk).\n",
        "        # Here we just pass in None and dz will be allocated in the C++ code.\n",
        "        du, ddelta, dA, dB, dC, dD, ddelta_bias, *rest = selective_scan_cuda.bwd(\n",
        "            u, delta, A, B, C, D, z, delta_bias, dout, x, out, None, ctx.delta_softplus,\n",
        "            False  # option to recompute out_z, not used here\n",
        "        )\n",
        "        dz = rest[0] if ctx.has_z else None\n",
        "        dB = dB.squeeze(1) if getattr(ctx, \"squeeze_B\", False) else dB\n",
        "        dC = dC.squeeze(1) if getattr(ctx, \"squeeze_C\", False) else dC\n",
        "        return (du, ddelta, dA, dB, dC,\n",
        "                dD if D is not None else None,\n",
        "                dz,\n",
        "                ddelta_bias if delta_bias is not None else None,\n",
        "                None,\n",
        "                None)\n",
        "\n",
        "\n",
        "def selective_scan_fn(u, delta, A, B, C, D=None, z=None, delta_bias=None, delta_softplus=False,\n",
        "                     return_last_state=False):\n",
        "    \"\"\"if return_last_state is True, returns (out, last_state)\n",
        "    last_state has shape (batch, dim, dstate). Note that the gradient of the last state is\n",
        "    not considered in the backward pass.\n",
        "    \"\"\"\n",
        "    return SelectiveScanFn.apply(u, delta, A, B, C, D, z, delta_bias, delta_softplus, return_last_state)\n",
        "\n",
        "\n",
        "def selective_scan_ref(u, delta, A, B, C, D=None, z=None, delta_bias=None, delta_softplus=False,\n",
        "                      return_last_state=False):\n",
        "    \"\"\"\n",
        "    u: r(B D L)\n",
        "    delta: r(B D L)\n",
        "    A: c(D N) or r(D N)\n",
        "    B: c(D N) or r(B N L) or r(B N 2L) or r(B G N L) or (B G N L)\n",
        "    C: c(D N) or r(B N L) or r(B N 2L) or r(B G N L) or (B G N L)\n",
        "    D: r(D)\n",
        "    z: r(B D L)\n",
        "    delta_bias: r(D), fp32\n",
        "\n",
        "    out: r(B D L)\n",
        "    last_state (optional): r(B D dstate) or c(B D dstate)\n",
        "    \"\"\"\n",
        "    dtype_in = u.dtype\n",
        "    u = u.float()\n",
        "    delta = delta.float()\n",
        "    if delta_bias is not None:\n",
        "        delta = delta + delta_bias[..., None].float()\n",
        "    if delta_softplus:\n",
        "        delta = F.softplus(delta)\n",
        "    batch, dim, dstate = u.shape[0], A.shape[0], A.shape[1]\n",
        "    is_variable_B = B.dim() >= 3\n",
        "    is_variable_C = C.dim() >= 3\n",
        "    if A.is_complex():\n",
        "        if is_variable_B:\n",
        "            B = torch.view_as_complex(rearrange(B.float(), \"... (L two) -> ... L two\", two=2))\n",
        "        if is_variable_C:\n",
        "            C = torch.view_as_complex(rearrange(C.float(), \"... (L two) -> ... L two\", two=2))\n",
        "    else:\n",
        "        B = B.float()\n",
        "        C = C.float()\n",
        "    x = A.new_zeros((batch, dim, dstate))\n",
        "    ys = []\n",
        "    deltaA = torch.exp(torch.einsum('bdl,dn->bdln', delta, A))\n",
        "    if not is_variable_B:\n",
        "        deltaB_u = torch.einsum('bdl,dn,bdl->bdln', delta, B, u)\n",
        "    else:\n",
        "        if B.dim() == 3:\n",
        "            deltaB_u = torch.einsum('bdl,bnl,bdl->bdln', delta, B, u)\n",
        "        else:\n",
        "            B = repeat(B, \"B G N L -> B (G H) N L\", H=dim // B.shape[1])\n",
        "            deltaB_u = torch.einsum('bdl,bdnl,bdl->bdln', delta, B, u)\n",
        "    if is_variable_C and C.dim() == 4:\n",
        "        C = repeat(C, \"B G N L -> B (G H) N L\", H=dim // C.shape[1])\n",
        "    last_state = None\n",
        "    for i in range(u.shape[2]):\n",
        "        x = deltaA[:, :, i] * x + deltaB_u[:, :, i]\n",
        "        if not is_variable_C:\n",
        "            y = torch.einsum('bdn,dn->bd', x, C)\n",
        "        else:\n",
        "            if C.dim() == 3:\n",
        "                y = torch.einsum('bdn,bn->bd', x, C[:, :, i])\n",
        "            else:\n",
        "                y = torch.einsum('bdn,bdn->bd', x, C[:, :, :, i])\n",
        "        if i == u.shape[2] - 1:\n",
        "            last_state = x\n",
        "        if y.is_complex():\n",
        "            y = y.real * 2\n",
        "        ys.append(y)\n",
        "    y = torch.stack(ys, dim=2) # (batch dim L)\n",
        "    out = y if D is None else y + u * rearrange(D, \"d -> d 1\")\n",
        "    if z is not None:\n",
        "        out = out * F.silu(z)\n",
        "    out = out.to(dtype=dtype_in)\n",
        "    return out if not return_last_state else (out, last_state)\n",
        "\n",
        "\n",
        "class MambaInnerFn(torch.autograd.Function):\n",
        "\n",
        "    @staticmethod\n",
        "    @custom_fwd\n",
        "    def forward(ctx, xz, conv1d_weight, conv1d_bias, x_proj_weight, delta_proj_weight,\n",
        "                out_proj_weight, out_proj_bias,\n",
        "                A, B=None, C=None, D=None, delta_bias=None, B_proj_bias=None,\n",
        "                C_proj_bias=None, delta_softplus=True, checkpoint_lvl=1):\n",
        "        \"\"\"\n",
        "             xz: (batch, dim, seqlen)\n",
        "        \"\"\"\n",
        "        assert causal_conv1d_cuda is not None, \"causal_conv1d_cuda is not available. Please install causal-conv1d.\"\n",
        "        assert checkpoint_lvl in [0, 1]\n",
        "        L = xz.shape[-1]\n",
        "        delta_rank = delta_proj_weight.shape[1]\n",
        "        d_state = A.shape[-1] * (1 if not A.is_complex() else 2)\n",
        "        if torch.is_autocast_enabled():\n",
        "            x_proj_weight = x_proj_weight.to(dtype=torch.get_autocast_gpu_dtype())\n",
        "            delta_proj_weight = delta_proj_weight.to(dtype=torch.get_autocast_gpu_dtype())\n",
        "            out_proj_weight = out_proj_weight.to(dtype=torch.get_autocast_gpu_dtype())\n",
        "            out_proj_bias = (out_proj_bias.to(dtype=torch.get_autocast_gpu_dtype())\n",
        "                             if out_proj_bias is not None else None)\n",
        "        if xz.stride(-1) != 1:\n",
        "            xz = xz.contiguous()\n",
        "        conv1d_weight = rearrange(conv1d_weight, \"d 1 w -> d w\")\n",
        "        x, z = xz.chunk(2, dim=1)\n",
        "        conv1d_bias = conv1d_bias.contiguous() if conv1d_bias is not None else None\n",
        "        conv1d_out = causal_conv1d_cuda.causal_conv1d_fwd(\n",
        "            x, conv1d_weight, conv1d_bias, None, None, None, True\n",
        "        )\n",
        "        # We're being very careful here about the layout, to avoid extra transposes.\n",
        "        # We want delta to have d as the slowest moving dimension\n",
        "        # and L as the fastest moving dimension, since those are what the ssm_scan kernel expects.\n",
        "        x_dbl = F.linear(rearrange(conv1d_out, 'b d l -> (b l) d'), x_proj_weight)  # (bl d)\n",
        "        delta = rearrange(delta_proj_weight @ x_dbl[:, :delta_rank].t(), \"d (b l) -> b d l\", l = L)\n",
        "        ctx.is_variable_B = B is None\n",
        "        ctx.is_variable_C = C is None\n",
        "        ctx.B_proj_bias_is_None = B_proj_bias is None\n",
        "        ctx.C_proj_bias_is_None = C_proj_bias is None\n",
        "        if B is None:  # variable B\n",
        "            B = x_dbl[:, delta_rank:delta_rank + d_state]  # (bl dstate)\n",
        "            if B_proj_bias is not None:\n",
        "                B = B + B_proj_bias.to(dtype=B.dtype)\n",
        "            if not A.is_complex():\n",
        "                # B = rearrange(B, \"(b l) dstate -> b dstate l\", l=L).contiguous()\n",
        "                B = rearrange(B, \"(b l) dstate -> b 1 dstate l\", l=L).contiguous()\n",
        "            else:\n",
        "                B = rearrange(B, \"(b l) (dstate two) -> b 1 dstate (l two)\", l=L, two=2).contiguous()\n",
        "        else:\n",
        "            if B.stride(-1) != 1:\n",
        "                B = B.contiguous()\n",
        "        if C is None:  # variable C\n",
        "            C = x_dbl[:, -d_state:]  # (bl dstate)\n",
        "            if C_proj_bias is not None:\n",
        "                C = C + C_proj_bias.to(dtype=C.dtype)\n",
        "            if not A.is_complex():\n",
        "                # C = rearrange(C, \"(b l) dstate -> b dstate l\", l=L).contiguous()\n",
        "                C = rearrange(C, \"(b l) dstate -> b 1 dstate l\", l=L).contiguous()\n",
        "            else:\n",
        "                C = rearrange(C, \"(b l) (dstate two) -> b 1 dstate (l two)\", l=L, two=2).contiguous()\n",
        "        else:\n",
        "            if C.stride(-1) != 1:\n",
        "                C = C.contiguous()\n",
        "        if D is not None:\n",
        "            D = D.contiguous()\n",
        "        out, scan_intermediates, out_z = selective_scan_cuda.fwd(\n",
        "            conv1d_out, delta, A, B, C, D, z, delta_bias, delta_softplus\n",
        "        )\n",
        "        ctx.delta_softplus = delta_softplus\n",
        "        ctx.out_proj_bias_is_None = out_proj_bias is None\n",
        "        ctx.checkpoint_lvl = checkpoint_lvl\n",
        "        if checkpoint_lvl >= 1:  # Will recompute conv1d_out and delta in the backward pass\n",
        "            conv1d_out, delta = None, None\n",
        "        ctx.save_for_backward(xz, conv1d_weight, conv1d_bias, x_dbl, x_proj_weight,\n",
        "                              delta_proj_weight, out_proj_weight, conv1d_out, delta,\n",
        "                              A, B, C, D, delta_bias, scan_intermediates, out)\n",
        "        return F.linear(rearrange(out_z, \"b d l -> b l d\"), out_proj_weight, out_proj_bias)\n",
        "\n",
        "    @staticmethod\n",
        "    @custom_bwd\n",
        "    def backward(ctx, dout):\n",
        "        # dout: (batch, seqlen, dim)\n",
        "        assert causal_conv1d_cuda is not None, \"causal_conv1d_cuda is not available. Please install causal-conv1d.\"\n",
        "        (xz, conv1d_weight, conv1d_bias, x_dbl, x_proj_weight, delta_proj_weight, out_proj_weight,\n",
        "         conv1d_out, delta, A, B, C, D, delta_bias, scan_intermediates, out) = ctx.saved_tensors\n",
        "        L = xz.shape[-1]\n",
        "        delta_rank = delta_proj_weight.shape[1]\n",
        "        d_state = A.shape[-1] * (1 if not A.is_complex() else 2)\n",
        "        x, z = xz.chunk(2, dim=1)\n",
        "        if dout.stride(-1) != 1:\n",
        "            dout = dout.contiguous()\n",
        "        if ctx.checkpoint_lvl == 1:\n",
        "            conv1d_out = causal_conv1d_cuda.causal_conv1d_fwd(\n",
        "                x, conv1d_weight, conv1d_bias, None, None, None, True\n",
        "            )\n",
        "            delta = rearrange(delta_proj_weight @ x_dbl[:, :delta_rank].t(),\n",
        "                              \"d (b l) -> b d l\", l = L)\n",
        "        # The kernel supports passing in a pre-allocated dz (e.g., in case we want to fuse the\n",
        "        # backward of selective_scan_cuda with the backward of chunk).\n",
        "        dxz = torch.empty_like(xz)  # (batch, dim, seqlen)\n",
        "        dx, dz = dxz.chunk(2, dim=1)\n",
        "        dout = rearrange(dout, \"b l e -> e (b l)\")\n",
        "        dout_y = rearrange(out_proj_weight.t() @ dout, \"d (b l) -> b d l\", l=L)\n",
        "        dconv1d_out, ddelta, dA, dB, dC, dD, ddelta_bias, dz, out_z = selective_scan_cuda.bwd(\n",
        "            conv1d_out, delta, A, B, C, D, z, delta_bias, dout_y, scan_intermediates, out, dz,\n",
        "            ctx.delta_softplus,\n",
        "            True  # option to recompute out_z\n",
        "        )\n",
        "        dout_proj_weight = torch.einsum(\"eB,dB->ed\", dout, rearrange(out_z, \"b d l -> d (b l)\"))\n",
        "        dout_proj_bias = dout.sum(dim=(0, 1)) if not ctx.out_proj_bias_is_None else None\n",
        "        dD = dD if D is not None else None\n",
        "        dx_dbl = torch.empty_like(x_dbl)\n",
        "        dB_proj_bias = None\n",
        "        if ctx.is_variable_B:\n",
        "            if not A.is_complex():\n",
        "                dB = rearrange(dB, \"b 1 dstate l -> (b l) dstate\").contiguous()\n",
        "            else:\n",
        "                dB = rearrange(dB, \"b 1 dstate (l two) -> (b l) (dstate two)\", two=2).contiguous()\n",
        "            dB_proj_bias = dB.sum(0) if not ctx.B_proj_bias_is_None else None\n",
        "            dx_dbl[:, delta_rank:delta_rank + d_state] = dB  # (bl d)\n",
        "            dB = None\n",
        "        dC_proj_bias = None\n",
        "        if ctx.is_variable_C:\n",
        "            if not A.is_complex():\n",
        "                dC = rearrange(dC, \"b 1 dstate l -> (b l) dstate\").contiguous()\n",
        "            else:\n",
        "                dC = rearrange(dC, \"b 1 dstate (l two) -> (b l) (dstate two)\", two=2).contiguous()\n",
        "            dC_proj_bias = dC.sum(0) if not ctx.C_proj_bias_is_None else None\n",
        "            dx_dbl[:, -d_state:] = dC  # (bl d)\n",
        "            dC = None\n",
        "        ddelta = rearrange(ddelta, \"b d l -> d (b l)\")\n",
        "        ddelta_proj_weight = torch.einsum(\"dB,Br->dr\", ddelta, x_dbl[:, :delta_rank])\n",
        "        dx_dbl[:, :delta_rank] = torch.einsum(\"dB,dr->Br\", ddelta, delta_proj_weight)\n",
        "        dconv1d_out = rearrange(dconv1d_out, \"b d l -> d (b l)\")\n",
        "        dx_proj_weight = torch.einsum(\"Br,Bd->rd\", dx_dbl, rearrange(conv1d_out, \"b d l -> (b l) d\"))\n",
        "        dconv1d_out = torch.addmm(dconv1d_out, x_proj_weight.t(), dx_dbl.t(), out=dconv1d_out)\n",
        "        dconv1d_out = rearrange(dconv1d_out, \"d (b l) -> b d l\", b=x.shape[0], l=x.shape[-1])\n",
        "        # The kernel supports passing in a pre-allocated dx (e.g., in case we want to fuse the\n",
        "        # backward of conv1d with the backward of chunk).\n",
        "        dx, dconv1d_weight, dconv1d_bias, *_ = causal_conv1d_cuda.causal_conv1d_bwd(\n",
        "            x, conv1d_weight, conv1d_bias, dconv1d_out, None, None, None, dx, False, True\n",
        "        )\n",
        "        dconv1d_bias = dconv1d_bias if conv1d_bias is not None else None\n",
        "        dconv1d_weight = rearrange(dconv1d_weight, \"d w -> d 1 w\")\n",
        "        return (dxz, dconv1d_weight, dconv1d_bias, dx_proj_weight, ddelta_proj_weight,\n",
        "                dout_proj_weight, dout_proj_bias,\n",
        "                dA, dB, dC, dD,\n",
        "                ddelta_bias if delta_bias is not None else None,\n",
        "                dB_proj_bias, dC_proj_bias, None)\n",
        "\n",
        "\n",
        "def mamba_inner_fn(\n",
        "    xz, conv1d_weight, conv1d_bias, x_proj_weight, delta_proj_weight,\n",
        "    out_proj_weight, out_proj_bias,\n",
        "    A, B=None, C=None, D=None, delta_bias=None, B_proj_bias=None,\n",
        "    C_proj_bias=None, delta_softplus=True\n",
        "):\n",
        "    return MambaInnerFn.apply(xz, conv1d_weight, conv1d_bias, x_proj_weight, delta_proj_weight,\n",
        "                              out_proj_weight, out_proj_bias,\n",
        "                              A, B, C, D, delta_bias, B_proj_bias, C_proj_bias, delta_softplus)\n",
        "\n",
        "\n",
        "def mamba_inner_ref(\n",
        "    xz, conv1d_weight, conv1d_bias, x_proj_weight, delta_proj_weight,\n",
        "    out_proj_weight, out_proj_bias,\n",
        "    A, B=None, C=None, D=None, delta_bias=None, B_proj_bias=None,\n",
        "    C_proj_bias=None, delta_softplus=True\n",
        "):\n",
        "    assert causal_conv1d_fn is not None, \"causal_conv1d_fn is not available. Please install causal-conv1d.\"\n",
        "    L = xz.shape[-1]\n",
        "    delta_rank = delta_proj_weight.shape[1]\n",
        "    d_state = A.shape[-1] * (1 if not A.is_complex() else 2)\n",
        "    x, z = xz.chunk(2, dim=1)\n",
        "    x = causal_conv1d_fn(x, rearrange(conv1d_weight, \"d 1 w -> d w\"), conv1d_bias, activation=\"silu\")\n",
        "    # We're being very careful here about the layout, to avoid extra transposes.\n",
        "    # We want delta to have d as the slowest moving dimension\n",
        "    # and L as the fastest moving dimension, since those are what the ssm_scan kernel expects.\n",
        "    x_dbl = F.linear(rearrange(x, 'b d l -> (b l) d'), x_proj_weight)  # (bl d)\n",
        "    delta = delta_proj_weight @ x_dbl[:, :delta_rank].t()\n",
        "    delta = rearrange(delta, \"d (b l) -> b d l\", l=L)\n",
        "    if B is None:  # variable B\n",
        "        B = x_dbl[:, delta_rank:delta_rank + d_state]  # (bl d)\n",
        "        if B_proj_bias is not None:\n",
        "            B = B + B_proj_bias.to(dtype=B.dtype)\n",
        "        if not A.is_complex():\n",
        "            B = rearrange(B, \"(b l) dstate -> b dstate l\", l=L).contiguous()\n",
        "        else:\n",
        "            B = rearrange(B, \"(b l) (dstate two) -> b dstate (l two)\", l=L, two=2).contiguous()\n",
        "    if C is None:  # variable B\n",
        "        C = x_dbl[:, -d_state:]  # (bl d)\n",
        "        if C_proj_bias is not None:\n",
        "            C = C + C_proj_bias.to(dtype=C.dtype)\n",
        "        if not A.is_complex():\n",
        "            C = rearrange(C, \"(b l) dstate -> b dstate l\", l=L).contiguous()\n",
        "        else:\n",
        "            C = rearrange(C, \"(b l) (dstate two) -> b dstate (l two)\", l=L, two=2).contiguous()\n",
        "    y = selective_scan_fn(x, delta, A, B, C, D, z=z, delta_bias=delta_bias, delta_softplus=True)\n",
        "    return F.linear(rearrange(y, \"b d l -> b l d\"), out_proj_weight, out_proj_bias)"
      ],
      "metadata": {
        "id": "bqVsc8Pf5Q6M"
      },
      "execution_count": null,
      "outputs": []
    },
    {
      "cell_type": "markdown",
      "source": [
        "#### Back to normal people land"
      ],
      "metadata": {
        "id": "lj-6w67z57hb"
      }
    },
    {
      "cell_type": "code",
      "source": [
        "# instead of tracking all the parameters, we will just use a dataclass\n",
        "@dataclass\n",
        "class MambaConfig:\n",
        "    embed_size: int # hidden layer size\n",
        "    n_layers: int # number of layers\n",
        "    vocab_size: int # number of tokens in the vocabulary\n",
        "    ssm_dim: int = 16 # N in the above, dimension of implicit latent state\n",
        "    expansion_factor: int = 2 # expansion factor (E in 3.4)\n",
        "    # d_expanded: int # E*embed_size, the expanded dimension\n",
        "    conv_kernel_size: int = 4 # kernel size for the convolutional layer\n",
        "    pad_vocab_size_multiple: int = 8\n",
        "    conv_bias: bool = True # whether to use bias in the convolutional layer\n",
        "    bias: bool = False # whether to use bias in the linear layers\n",
        "    # context_window_size: int = context_window_size # should be able to increase this above transformer\n",
        "    device: str = \"cuda\" # device to use\n",
        "    dt_min: float = 0.001\n",
        "    dt_max: float = 0.1\n",
        "    dt_init_floor: float =1e-4\n",
        "    dt_init: str = \"random\"\n",
        "    dt_scale: float = 1.0\n",
        "\n",
        "    def __post_init__(self):\n",
        "        self.device = get_device()\n",
        "        self.d_expanded = self.embed_size * self.expansion_factor\n",
        "        self.delta_rank = math.ceil(self.embed_size / self.ssm_dim)"
      ],
      "metadata": {
        "id": "qjr5UkpZMLUT"
      },
      "execution_count": null,
      "outputs": []
    },
    {
      "cell_type": "code",
      "source": [
        "class MambaSingleBlock(nn.Module):\n",
        "    \"\"\"Mamba the heart of the Mamba model\n",
        "        Implements the S4 layer with the SSM and the Convolutional layer\n",
        "        Just does exactly what is given in Figure 3 of the paper\"\"\"\n",
        "    def __init__(self, config: MambaConfig):\n",
        "        super().__init__()\n",
        "        self.config = config\n",
        "\n",
        "        self.maketwocopies = nn.Linear(config.embed_size,\n",
        "                                       config.d_expanded*2,\n",
        "                                       bias=config.bias)\n",
        "\n",
        "        self.conv = nn.Conv1d(in_channels=config.d_expanded,\n",
        "                              out_channels=config.d_expanded,\n",
        "                              kernel_size=config.conv_kernel_size,\n",
        "                              padding=config.conv_kernel_size - 1,\n",
        "                              groups=config.d_expanded,\n",
        "                              bias=config.conv_bias)\n",
        "\n",
        "        self.activation = \"silu\"\n",
        "        self.act = nn.SiLU()\n",
        "\n",
        "        # in original paper, uses \"x_proj\" and \"dt_proj\"\n",
        "        # This linear layer is how we get\n",
        "        # delta, B and C, which are the main parameters of the SSM\n",
        "        # B and C are (clearly) input dependent. A is not, it is the\n",
        "        # coefficient on the hidden state in the PDE for the hidden state\n",
        "        self.x_proj = nn.Linear(config.d_expanded,\n",
        "                                config.delta_rank + config.ssm_dim * 2,\n",
        "                                bias=config.bias)\n",
        "\n",
        "        # projects the low rank delta to the dimension of all the parameters\n",
        "        self.dt_proj = nn.Linear(config.delta_rank,\n",
        "                                   config.d_expanded,\n",
        "                                   bias=True)\n",
        "\n",
        "\n",
        "        # Shamelessly copied from the paper's implementation:\n",
        "        # They use a custom initialization for both\n",
        "        # Initialize special dt projection to preserve variance at initialization\n",
        "        dt_init_std = config.delta_rank**-0.5 * config.dt_scale\n",
        "        if config.dt_init == \"constant\":\n",
        "            nn.init.constant_(self.dt_proj.weight, dt_init_std)\n",
        "        elif config.dt_init == \"random\":\n",
        "            nn.init.uniform_(self.dt_proj.weight, -dt_init_std, dt_init_std)\n",
        "        else:\n",
        "            raise NotImplementedError\n",
        "\n",
        "        # They use a custom initialization for the dt_proj bias\n",
        "        # Initialize dt bias so that F.softplus(dt_bias) is between dt_min and dt_max\n",
        "        dt = torch.exp(\n",
        "            torch.rand(config.d_expanded) * (math.log(config.dt_max) - math.log(config.dt_min))\n",
        "            + math.log(config.dt_min)\n",
        "        ).clamp(min=config.dt_init_floor)\n",
        "        # Inverse of softplus: https://github.com/pytorch/pytorch/issues/72759\n",
        "        inv_dt = dt + torch.log(-torch.expm1(-dt))\n",
        "        with torch.no_grad():\n",
        "            self.dt_proj.bias.copy_(inv_dt)\n",
        "        # Our initialization would set all Linear.bias to zero, need to mark this one as _no_reinit\n",
        "        self.dt_proj.bias._no_reinit = True\n",
        "\n",
        "        # Now we make the diagonal $A$ matrix,\n",
        "        # Making it diagonal cause Jimmy told me to\n",
        "        # We use the log of A for numerical stability\n",
        "        A = repeat(\n",
        "            torch.arange(1, config.ssm_dim + 1, dtype=torch.float32, device=device),\n",
        "            \"n -> d n\",\n",
        "            d=config.d_expanded,\n",
        "        ).contiguous()\n",
        "        A_log = torch.log(A)  # Keep A_log in fp32\n",
        "        self.A_log = nn.Parameter(A_log)\n",
        "        self.A_log._no_weight_decay = True # done in original paper\n",
        "\n",
        "        # D \"skip\" parameter\n",
        "        self.D = nn.Parameter(torch.ones(config.d_expanded, device=device))  # Keep in fp32\n",
        "        self.D._no_weight_decay = True # done in original paper\n",
        "\n",
        "        self.out_proj = nn.Linear(config.d_expanded, config.embed_size, bias=config.bias)\n",
        "        # finally done with init and defs\n",
        "\n",
        "    def forward(self, x):\n",
        "        \"\"\"\n",
        "        input is (b, l, d)\n",
        "        output is (b, l, d)\n",
        "        \"\"\"\n",
        "        batch, seqlen, dim = x.shape\n",
        "\n",
        "        conv_state, ssm_state = None, None\n",
        "        # we need to make two copies of the input (one for residual, one not)\n",
        "        x = self.maketwocopies(x)\n",
        "        # this is the first step in the S4 layer\n",
        "        x, resid = x.split(split_size=[self.config.d_expanded,\n",
        "                                       self.config.d_expanded],\n",
        "                           dim=-1)\n",
        "        # here we lose some of the cool implementation of the original\n",
        "        # to get some interpretability of the code\n",
        "        x = rearrange(x, \"b l d -> b d l\")\n",
        "        x = self.conv(x)[:, :, :seqlen]\n",
        "        x = rearrange(x, \"b d l -> b l d\")\n",
        "        x = self.act(x)\n",
        "        y = self.ssmlayer(x)\n",
        "        y = y * self.act(resid)\n",
        "        out = self.out_proj(y)\n",
        "        return out\n",
        "\n",
        "    def ssmlayer(self, x):\n",
        "        \"\"\"\n",
        "        This function is the SSM layer, the heart of the Mamba model\n",
        "        it is Algorithm 2 in the paper (shown above)\n",
        "        input is (b, l, d_expanded)\n",
        "        output is (b, l, d_expanded)\n",
        "        \"\"\"\n",
        "        d_expand, ssm_dim_inlayer = self.A_log.shape\n",
        "        # Now we get the parameters for the SSM\n",
        "\n",
        "        A = -torch.exp(self.A_log) # (d, N)\n",
        "        delta, B, C = self.x_proj(x).split([self.config.delta_rank,\n",
        "                                            self.config.ssm_dim,\n",
        "                                            self.config.ssm_dim],\n",
        "                                           dim=-1) # (b, l, dt_rank), (b, l, N), (b, l, N)\n",
        "        delta = F.softplus(self.dt_proj(delta)) # (b, l, d)\n",
        "\n",
        "        y = self.selective_scan(x, delta, A, B, C, self.D)\n",
        "\n",
        "        return y\n",
        "\n",
        "    def selective_scan(self, u, delta, A, B, C, D):\n",
        "        \"\"\"\n",
        "          Implementation of selective_scan, but very very slow.\n",
        "          We have discretization of SSM (x' = Ax + Bu) and y = Cx + Du\n",
        "\n",
        "        Args:\n",
        "            u: shape (b, l, d_exp)\n",
        "            delta: shape (b, l, d_exp)\n",
        "            A: shape (d_exp, n)\n",
        "            B: shape (b, l, n)\n",
        "            C: shape (b, l, n)\n",
        "            D: shape (d_exp,)\n",
        "\n",
        "        Returns:\n",
        "            output: shape (b, l, d_exp)\n",
        "\n",
        "        \"\"\"\n",
        "        (b, l, d_in) = u.shape\n",
        "        n = A.shape[1]\n",
        "\n",
        "        # A is discretized using zero-order hold (ZOH) (Sec 2 Equation 4 in the Mamba paper [1])\n",
        "        # B is discretized using Euler-Mayurama discretization instead of ZOH.\n",
        "        deltaA = torch.exp(einsum(delta, A, 'b l d_in, d_in n -> b l d_in n'))\n",
        "        deltaB_u = einsum(delta, B, u, 'b l d_in, b l n, b l d_in -> b l d_in n')\n",
        "\n",
        "        # Note that the below is sequential, while the official implementation does a much faster parallel scan that\n",
        "        # is additionally hardware-aware (like FlashAttention).\n",
        "        # This is very very slow. I need to figure out how to do parallel scan\n",
        "        x = torch.zeros((b, d_in, n), device=deltaA.device)\n",
        "        ys = []\n",
        "        for i in range(l):\n",
        "            x = deltaA[:, i] * x + deltaB_u[:, i]\n",
        "            y = einsum(x, C[:, i, :], 'b d_in n, b n -> b d_in')\n",
        "            ys.append(y)\n",
        "        y = torch.stack(ys, dim=1)  # shape (b, l, d_in)\n",
        "\n",
        "        y = y + u * D\n",
        "\n",
        "        return y"
      ],
      "metadata": {
        "id": "XxMPvFeBZwcG"
      },
      "execution_count": null,
      "outputs": []
    },
    {
      "cell_type": "code",
      "source": [
        "class MambaBlock(nn.Module):\n",
        "  \"\"\"\n",
        "    Mamba block: Just a wrapper for the mamba block with Conv and SSM,\n",
        "    with some layer norm and residual connections mixed in\n",
        "    Uses MambaSingleBlock to do the actual work\n",
        "    Note the original paper uses RMSNorm, but I will use LayerNorm for now\n",
        "  \"\"\"\n",
        "\n",
        "  def __init__(self, config: MambaConfig):\n",
        "      super().__init__()\n",
        "      self.config = config\n",
        "      self.ln = nn.LayerNorm(config.embed_size)\n",
        "      self.mambaApplication = MambaSingleBlock(config)\n",
        "\n",
        "  def forward(self, x):\n",
        "    \"\"\"\n",
        "      input is (b, l , d)\n",
        "      output is (b, l, d)\n",
        "    \"\"\"\n",
        "    x = x + self.mambaApplication(self.ln(x))\n",
        "    return x"
      ],
      "metadata": {
        "id": "8vc8bo_xUHdd"
      },
      "execution_count": null,
      "outputs": []
    },
    {
      "cell_type": "code",
      "source": [
        "class Mamba_Mine(nn.Module):\n",
        "    def __init__(self, config: MambaConfig):\n",
        "        \"\"\"\n",
        "        Implementation of Mamba model, using MambaBlock and with\n",
        "        Layer Norm and Residual connections like Transformer Implementation\n",
        "        Uses Swish activation (like original paper)\n",
        "        \"\"\"\n",
        "        super().__init__()\n",
        "        self.config = config\n",
        "        self.token_embedding_table = nn.Embedding(config.vocab_size,\n",
        "                                                  config.embed_size)\n",
        "        self.blocks = nn.Sequential(*[\n",
        "            MambaBlock(config)\n",
        "            for _ in range(config.n_layers)])\n",
        "        self.ln_f = nn.LayerNorm(config.embed_size)\n",
        "\n",
        "        self.lm_head = nn.Linear(config.embed_size, config.vocab_size, bias=False)\n",
        "\n",
        "\n",
        "    def forward(self, input_ids, targets=None):\n",
        "        \"\"\"\n",
        "        Args:\n",
        "            input_ids (long tensor): shape (b, l)    (See Glossary at top for definitions of b, l, d_in, n...)\n",
        "\n",
        "        Returns:\n",
        "            logits: shape (b, l, vocab_size)\n",
        "\n",
        "        Official Implementation:\n",
        "            class MambaLMHeadModel, https://github.com/state-spaces/mamba/blob/main/mamba_ssm/models/mixer_seq_simple.py#L173\n",
        "\n",
        "        \"\"\"\n",
        "        b, l = input_ids.shape\n",
        "        x = self.token_embedding_table(input_ids)\n",
        "        x = self.blocks(x)\n",
        "        x = self.ln_f(x)\n",
        "        logits = self.lm_head(x)\n",
        "        if targets is None:\n",
        "            loss = None\n",
        "        else:\n",
        "            logits_for_loss = logits.view(b*l, -1) # could do -1 here, but doing explicitly for clarity\n",
        "            targets_for_loss = targets.view(b*l)\n",
        "            loss = F.cross_entropy(logits_for_loss, targets_for_loss) # default reduction is mean, so we don't need to average\n",
        "\n",
        "        return logits, loss"
      ],
      "metadata": {
        "id": "6RazhnvhVK1-"
      },
      "execution_count": null,
      "outputs": []
    },
    {
      "cell_type": "code",
      "source": [
        "mamba_config = MambaConfig(\n",
        "    embed_size = 384,\n",
        "    n_layers=6,\n",
        "    vocab_size=vocab_size)\n",
        "\n",
        "mamba_model = Mamba_Mine(mamba_config)\n",
        "mm = mamba_model.to(device)\n",
        "\n",
        "# # Run Real Mamba\n",
        "# model = Mamba(\n",
        "#     # This module uses roughly 3 * expand * d_model^2 parameters\n",
        "#     d_model=dim, # Model dimension d_model\n",
        "#     d_state=16,  # SSM state expansion factor\n",
        "#     d_conv=4,    # Local convolution width\n",
        "#     expand=2,    # Block expansion factor\n",
        "# ).to(\"cuda\")"
      ],
      "metadata": {
        "id": "jreKxVLV66tY"
      },
      "execution_count": null,
      "outputs": []
    },
    {
      "cell_type": "code",
      "source": [
        "loss_list_mamba, loss_eval_mamba = train_or_load_model(save_dir,\n",
        "                                                     mm,\n",
        "                                                     \"mamba\",\n",
        "                                                     learning_rate = 1e-4,\n",
        "                                                     iters = 200,\n",
        "                                                     eval_iters = 50,\n",
        "                                                     context_window_size = context_window_size,\n",
        "                                                     device = device)"
      ],
      "metadata": {
        "id": "9voD0u6eHZyV"
      },
      "execution_count": null,
      "outputs": []
    }
  ],
  "metadata": {
    "accelerator": "GPU",
    "colab": {
      "gpuType": "V100",
      "provenance": [],
      "machine_shape": "hm",
      "include_colab_link": true
    },
    "kernelspec": {
      "name": "python3",
      "display_name": "Python 3"
    },
    "language_info": {
      "name": "python"
    }
  },
  "nbformat": 4,
  "nbformat_minor": 0
}