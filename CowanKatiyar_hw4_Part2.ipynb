{
 "cells": [
  {
   "cell_type": "code",
   "source": [
    "# from google.colab import drive\n",
    "# drive.mount('/content/drive')"
   ],
   "metadata": {
    "colab": {
     "base_uri": "https://localhost:8080/"
    },
    "id": "8rq7yJWgAlMg",
    "outputId": "ab92f6ce-0c17-4cb9-d604-eb73a69b4516"
   },
   "execution_count": 1,
   "outputs": [
    {
     "output_type": "stream",
     "name": "stdout",
     "text": [
      "Mounted at /content/drive\n"
     ]
    }
   ]
  },
  {
   "cell_type": "code",
   "source": [
    "save_dir = \"HW4_saved_items/\""
   ],
   "metadata": {
    "id": "oe5GuAlrA5M9",
    "ExecuteTime": {
     "end_time": "2024-03-14T02:08:51.009225Z",
     "start_time": "2024-03-14T02:08:51.007675Z"
    }
   },
   "execution_count": 1,
   "outputs": []
  },
  {
   "cell_type": "markdown",
   "source": [
    "## Set Color Palette"
   ],
   "metadata": {
    "collapsed": false,
    "id": "hsjEQFNJ_Bdq"
   }
  },
  {
   "cell_type": "code",
   "outputs": [],
   "source": [
    "hiroshige = dict(colors=(\"#e76254\", \"#ef8a47\", \"#f7aa58\", \"#ffd06f\",\n",
    "                           \"#ffe6b7\", \"#aadce0\", \"#72bcd5\", \"#528fad\",\n",
    "                           \"#376795\", \"#1e466e\"),\n",
    "                 order=(6, 2, 9, 3, 7, 5, 1, 10, 4, 8))\n",
    "\n",
    "monet = dict(colors=(\"#4e6d58\", \"#749e89\", \"#abccbe\", \"#e3cacf\",\n",
    "                   \"#c399a2\", \"#9f6e71\", \"#41507b\", \"#7d87b2\",\n",
    "                   \"#c2cae3\"),\n",
    "           order=(2, 5, 8, 3, 4, 9, 1, 6, 7))\n",
    "kandinsky = dict(colors=(\"#3b7c70\", \"#ce9642\", \"#898e9f\", \"#3b3a3e\"),\n",
    "                 order=(1, 2, 3, 4))\n",
    "\n",
    "tara=dict(colors=(\"#eab1c6\", \"#d35e17\", \"#e18a1f\", \"#e9b109\", \"#829d44\"),\n",
    "          order=(1, 3, 2, 5, 4))\n",
    "\n",
    "klimt=dict(colors=(\"#df9ed4\", \"#c93f55\", \"#eacc62\", \"#469d76\", \"#3c4b99\", \"#924099\"),\n",
    "           order=(5, 2, 3, 4, 6, 1))\n",
    "\n",
    "troy=dict(colors=(\"#421401\", \"#6c1d0e\", \"#8b3a2b\", \"#c27668\",\n",
    "                  \"#7ba0b4\", \"#44728c\", \"#235070\", \"#0a2d46\"),\n",
    "          order=(2, 7, 4, 5, 1, 8, 3, 6))\n",
    "\n",
    "def get_color(idx, colors_dict=hiroshige):\n",
    "    \"\"\"\n",
    "    Helper function to get a color from the defined color dictionary.\n",
    "    In order, starting at 0\n",
    "    \"\"\"\n",
    "    return colors_dict['colors'][colors_dict['order'].index(idx+1)]"
   ],
   "metadata": {
    "ExecuteTime": {
     "end_time": "2024-03-07T05:19:31.276173Z",
     "start_time": "2024-03-07T05:19:31.270772Z"
    },
    "id": "1K3bU3GQ_Bdq"
   },
   "execution_count": 3
  },
  {
   "cell_type": "markdown",
   "metadata": {
    "id": "qZ-AwbZ4ySCJ"
   },
   "source": [
    "## Setup"
   ]
  },
  {
   "cell_type": "code",
   "execution_count": 4,
   "metadata": {
    "id": "Xd4fRbWr15Yp",
    "ExecuteTime": {
     "end_time": "2024-03-07T05:19:35.439274Z",
     "start_time": "2024-03-07T05:19:35.437505Z"
    }
   },
   "outputs": [],
   "source": [
    "# can take around 30s\n",
    "%%capture\n",
    "! pip install datasets #huggingface datasets library\n",
    "! pip install --upgrade pyarrow\n",
    "! pip install einops"
   ]
  },
  {
   "cell_type": "code",
   "execution_count": 31,
   "metadata": {
    "id": "_5IXGh6OOBZV",
    "ExecuteTime": {
     "end_time": "2024-03-06T17:36:07.782895Z",
     "start_time": "2024-03-06T17:36:07.775952Z"
    }
   },
   "outputs": [],
   "source": [
    "from math import sqrt\n",
    "import csv\n",
    "\n",
    "# torch imports\n",
    "import torch\n",
    "import torch.nn as nn\n",
    "import torch.nn.functional as F\n",
    "import torch.optim as optim\n",
    "from dataclasses import dataclass\n",
    "from einops import rearrange, repeat, einsum\n",
    "\n",
    "# hugging face imports\n",
    "from datasets import load_dataset\n",
    "from transformers import AutoTokenizer\n",
    "\n",
    "import matplotlib.pyplot as plt\n",
    "from tqdm import tqdm\n",
    "\n",
    "import pandas as pd\n",
    "import sys\n",
    "import warnings"
   ]
  },
  {
   "cell_type": "code",
   "outputs": [],
   "source": [
    "def get_device():\n",
    "    if torch.backends.mps.is_available():\n",
    "        device_func = \"mps\"\n",
    "    elif torch.cuda.is_available():\n",
    "        device_func = \"cuda\"\n",
    "    else:\n",
    "        device_func = \"cpu\"\n",
    "    return device_func"
   ],
   "metadata": {
    "ExecuteTime": {
     "end_time": "2024-03-07T05:19:35.905879Z",
     "start_time": "2024-03-07T05:19:35.903584Z"
    },
    "id": "g89scjkN_Bdr"
   },
   "execution_count": 6
  },
  {
   "cell_type": "code",
   "outputs": [],
   "source": [
    "torch.manual_seed(305)\n",
    "\n",
    "device = get_device()\n",
    "assert device=='mps' or device=='cuda', \"you need to change runtime type to GPU\""
   ],
   "metadata": {
    "id": "mAXAf1YO_Bdr"
   },
   "execution_count": 7
  },
  {
   "cell_type": "code",
   "execution_count": 8,
   "metadata": {
    "id": "A_Z5Jh74DH_E",
    "ExecuteTime": {
     "end_time": "2024-03-06T17:45:38.846400Z",
     "start_time": "2024-03-06T17:45:38.843385Z"
    }
   },
   "outputs": [],
   "source": [
    "# hyperparams and helper functions\n",
    "SMALL_ITERS = 1000\n",
    "LARGE_ITERS = 2000\n",
    "context_window_size = 256\n",
    "chunk_size = 512 # BERT can only take max input size 512 characters\n",
    "\n",
    "def chunk_string(string, size):\n",
    "    \"\"\"\n",
    "    Splits a string into chunks of a specified size.\n",
    "\n",
    "    :param string: The string to be chunked.\n",
    "    :param size: The desired chunk size.\n",
    "    :return: A list of string chunks.\n",
    "    \"\"\"\n",
    "    return [string[i:i+size] for i in range(0, len(string), size)]"
   ]
  },
  {
   "cell_type": "markdown",
   "metadata": {
    "id": "lF6dgHnhOprg"
   },
   "source": [
    "## Part 0: Preprocessing"
   ]
  },
  {
   "cell_type": "markdown",
   "metadata": {
    "id": "WF0_bhXNOxeS"
   },
   "source": [
    "### 0.1: Loading the dataset\n",
    "\n",
    "The first step is to actually download the dataset. We will be using a dataset on [huggingface](https://huggingface.co/). You can think of hugging face as the sklearn of deep learning.\n",
    "\n",
    "The dominant mode for preprocessing textual data is to tokenize it, that is, to split the dataset into a finite vocabulary of tokens. Then, we can set up a dictionary where counting numbers map to tokens. Tokens can be characters, or words, or subwords; in fact, the \"best\" way to tokenize text is an active area of research. For our baseline, we will use a tokenizer that microsoft created for code."
   ]
  },
  {
   "cell_type": "code",
   "execution_count": 9,
   "metadata": {
    "id": "53dGz7ExDkUv",
    "ExecuteTime": {
     "end_time": "2024-03-05T00:26:10.822788Z",
     "start_time": "2024-03-05T00:26:08.093102Z"
    }
   },
   "outputs": [],
   "source": [
    "%%capture\n",
    "tokenizer = AutoTokenizer.from_pretrained('microsoft/CodeBERT-base')"
   ]
  },
  {
   "cell_type": "code",
   "execution_count": 10,
   "metadata": {
    "id": "BAdrvcIbORig",
    "ExecuteTime": {
     "end_time": "2024-03-05T00:26:23.882801Z",
     "start_time": "2024-03-05T00:26:22.198576Z"
    }
   },
   "outputs": [],
   "source": [
    "# Load the concatenated data\n",
    "raw_data = pd.read_csv(\"https://raw.githubusercontent.com/slinderman/stats305b/winter2024/assignments/hw4/python_corpus_4M.csv\", header=None)"
   ]
  },
  {
   "cell_type": "code",
   "execution_count": 11,
   "metadata": {
    "id": "LFZ2or4BO2w3",
    "ExecuteTime": {
     "end_time": "2024-03-05T00:26:57.613981Z",
     "start_time": "2024-03-05T00:26:27.981074Z"
    },
    "colab": {
     "base_uri": "https://localhost:8080/"
    },
    "outputId": "6407047c-8c34-483d-c45a-59e38af74f13"
   },
   "outputs": [
    {
     "output_type": "stream",
     "name": "stderr",
     "text": [
      "Token indices sequence length is longer than the specified maximum sequence length for this model (523 > 512). Running this sequence through the model will result in indexing errors\n"
     ]
    },
    {
     "output_type": "stream",
     "name": "stdout",
     "text": [
      "4000596 tokens have been loaded in\n"
     ]
    }
   ],
   "source": [
    "# should take around 3 min to load in around 4M tokens\n",
    "warnings.filterwarnings(\"ignore\")\n",
    "\n",
    "tokens = torch.tensor([], dtype=torch.long)\n",
    "for index, row in raw_data.iterrows():\n",
    "    text = row[0]\n",
    "    chunks = chunk_string(text, chunk_size)\n",
    "    n = len(chunks)\n",
    "    for idx, chunk in enumerate(chunks):\n",
    "        new_tokens = torch.tensor(tokenizer.encode(chunk, add_special_tokens=True))\n",
    "\n",
    "        # logic to avoid incorrectly adding in start and end sequence tokens as an artifact of chunking\n",
    "        if idx == 0:\n",
    "            tokens = torch.cat((tokens, new_tokens[:-1]), dim=0)\n",
    "        elif idx == n-1:\n",
    "            tokens = torch.cat((tokens, new_tokens[1:]), dim=0)\n",
    "        else:\n",
    "            tokens = torch.cat((tokens, new_tokens[1:-1]), dim=0)\n",
    "\n",
    "print(f\"{len(tokens)} tokens have been loaded in\")"
   ]
  },
  {
   "cell_type": "markdown",
   "metadata": {
    "id": "NUnScCoUCRI0"
   },
   "source": [
    "### Question 0.2: Examining the tokenizer"
   ]
  },
  {
   "cell_type": "markdown",
   "metadata": {
    "id": "3rz0XmuXCdGJ"
   },
   "source": [
    "Let's use the same prompts we used in Part 1:"
   ]
  },
  {
   "cell_type": "code",
   "execution_count": 12,
   "metadata": {
    "id": "KPbmLgmmChVg",
    "ExecuteTime": {
     "end_time": "2024-03-05T00:26:57.617613Z",
     "start_time": "2024-03-05T00:26:57.615347Z"
    }
   },
   "outputs": [],
   "source": [
    "prompt_1_text = \\\n",
    "\"\"\"def newton(eta, N, X, y, gamma, beta=None):\n",
    "  \\\"\"\"\n",
    "  Performs Newton's method on the negative average log likelihood with an\n",
    "  l2 regularization term\n",
    "\n",
    "  beta: torch.Tensor, of shape (teams)\n",
    "  X: torch.Tensor, the covariate matrix, of shape (-1, teams)\n",
    "  y: torch.Tensor, the response vector, of shape (teams)\n",
    "  gamma: float, the scale parameter for the regularization\n",
    "  beta: torch.Tensor, the starting point for gradient descent, if specified\n",
    "  \\\"\"\"\n",
    "\n",
    "  if beta is None:\n",
    "    # Instantiate the beta vector at a random point\n",
    "    beta = torch.randn(X.shape[1])\n",
    "  else:\n",
    "    beta = torch.clone(beta)\n",
    "\n",
    "  loss = []\n",
    "\n",
    "  # Instantiate a list to store the loss throughout the gradient descent\n",
    "  # path\n",
    "  for i in tqdm(range(N)):\"\"\""
   ]
  },
  {
   "cell_type": "code",
   "execution_count": 13,
   "metadata": {
    "id": "gZpeZjvqCnmH",
    "ExecuteTime": {
     "end_time": "2024-03-05T00:27:00.206799Z",
     "start_time": "2024-03-05T00:27:00.204367Z"
    }
   },
   "outputs": [],
   "source": [
    "prompt_2_text = \\\n",
    "\"\"\"import torch\n",
    "import torch.nn.functional as F\n",
    "\n",
    "\n",
    "def normalize(x, axis=-1):\n",
    "    \\\"\"\"Performs L2-Norm.\\\"\"\"\n",
    "    num = x\n",
    "    denom = torch.norm(x, 2, axis, keepdim=True).expand_as(x) + 1e-12\n",
    "    return num / denom\n",
    "\n",
    "def euclidean_dist(x, y):\n",
    "    \\\"\"\"Computes Euclidean distance.\\\"\"\"\n",
    "    m, n = x.size(0), y.size(0)\n",
    "    xx = torch.pow(x, 2).sum(1, keepdim=True).expand(m, n)\n",
    "    yy = torch.pow(x, 2).sum(1, keepdim=True).expand(m, m).t()\n",
    "    dist = xx + yy - 2 * torch.matmul(x, y.t())\n",
    "\n",
    "    dist = dist.clamp(min=1e-12).sqrt()\n",
    "\n",
    "    return dist\n",
    "\n",
    "\n",
    "def cosine_dist(x, y):\"\"\""
   ]
  },
  {
   "cell_type": "markdown",
   "metadata": {
    "id": "jFZUT77rCp3q"
   },
   "source": [
    "Here is what the tokenized output for the prompts looks like"
   ]
  },
  {
   "cell_type": "markdown",
   "metadata": {
    "id": "0hwg1_7kDxwY"
   },
   "source": [
    "### 0.3: Building our dataloader"
   ]
  },
  {
   "cell_type": "markdown",
   "metadata": {
    "id": "uk4UJm5SEMlB"
   },
   "source": [
    "There are around 50,000 tokens in the codebert vocab, but we only use around 20,000 of them. To make our lives easier, we just reindex the token indices to go from 1 to around 20,000."
   ]
  },
  {
   "cell_type": "code",
   "execution_count": 14,
   "metadata": {
    "id": "RZC0TYeaD6yj",
    "ExecuteTime": {
     "end_time": "2024-03-05T03:18:04.335868Z",
     "start_time": "2024-03-05T03:18:04.197175Z"
    },
    "colab": {
     "base_uri": "https://localhost:8080/"
    },
    "outputId": "1c0c334f-bd07-4de2-c4e9-11b34df09549"
   },
   "outputs": [
    {
     "output_type": "stream",
     "name": "stdout",
     "text": [
      "there are 21970 distinct tokens in the vocabulary\n"
     ]
    }
   ],
   "source": [
    "# Get unique elements\n",
    "extra_tokens = torch.cat((torch.tensor(tokenizer.encode(prompt_1_text, add_special_tokens=True)),\n",
    "                          torch.tensor(tokenizer.encode(prompt_2_text, add_special_tokens=True))),\n",
    "                         dim=0)\n",
    "\n",
    "unique_tokens = torch.unique(torch.cat((tokens, extra_tokens), dim=0))\n",
    "\n",
    "# Create a mapping from code bert to ids that increment by one\n",
    "from_code_bert_dict = {element.item(): id for id, element in enumerate(unique_tokens)}\n",
    "\n",
    "# Create a reverse mapping from ids to code bert token ids\n",
    "to_code_bert_dict = {id: element for element, id in from_code_bert_dict.items()}\n",
    "\n",
    "vocab_size = len(unique_tokens)\n",
    "print(f\"there are {vocab_size} distinct tokens in the vocabulary\")\n",
    "\n",
    "# helper functions to move between code bert and simple ids\n",
    "def from_code_bert(tkn_lst):\n",
    "    \"\"\"\n",
    "    Args:\n",
    "    tkn_lst: a list of code bert tokens\n",
    "    Returns:\n",
    "    a list of simple ids\n",
    "    \"\"\"\n",
    "    tkns = [int(from_code_bert_dict[token]) for token in tkn_lst]\n",
    "    return tkns\n",
    "\n",
    "\n",
    "def to_code_bert(tkn_lst):\n",
    "    \"\"\"\n",
    "    Args:\n",
    "    tkn_lst: a list of simple ids\n",
    "    Returns:\n",
    "    a list of code bert tokens\n",
    "    \"\"\"\n",
    "    tkns = [int(to_code_bert_dict[token]) for token in tkn_lst]\n",
    "    return tkns"
   ]
  },
  {
   "cell_type": "code",
   "execution_count": 15,
   "metadata": {
    "id": "pNOmdccJEXWk",
    "ExecuteTime": {
     "end_time": "2024-03-05T03:18:24.449548Z",
     "start_time": "2024-03-05T03:18:19.772556Z"
    },
    "colab": {
     "base_uri": "https://localhost:8080/"
    },
    "outputId": "7bf7f1d9-03b4-40e8-e7fd-0e5b9d27cfee"
   },
   "outputs": [
    {
     "output_type": "stream",
     "name": "stdout",
     "text": [
      "there are 3600536 tokens in the training set\n",
      "there are 400060 tokens in the validation set\n",
      "there are 21970 distinct tokens in the vocabulary\n"
     ]
    }
   ],
   "source": [
    "# let's translate our dataset into our ids\n",
    "tokens_simple_id = torch.tensor([from_code_bert_dict[token.item()] for token in tokens])\n",
    "\n",
    "# split up the data into train and validation sets\n",
    "n = int(0.9 * len(tokens_simple_id)) # first 90% will be train, rest val\n",
    "train_data = tokens_simple_id.clone()[:n]\n",
    "val_data = tokens_simple_id.clone()[n:]\n",
    "\n",
    "print(f\"there are {len(train_data)} tokens in the training set\")\n",
    "print(f\"there are {len(val_data)} tokens in the validation set\")\n",
    "print(f\"there are {vocab_size} distinct tokens in the vocabulary\")"
   ]
  },
  {
   "cell_type": "markdown",
   "metadata": {
    "id": "nsOs0_diEcjY"
   },
   "source": [
    "We also write helper functions to get batches of data and to evaluate the loss of various models on them."
   ]
  },
  {
   "cell_type": "code",
   "execution_count": 16,
   "metadata": {
    "id": "AkAD0PfiEfjG",
    "ExecuteTime": {
     "end_time": "2024-03-05T03:18:45.159569Z",
     "start_time": "2024-03-05T03:18:45.155702Z"
    }
   },
   "outputs": [],
   "source": [
    "# function for getting batches of data\n",
    "def get_batch(split, context_window_size, device, batch_size=32):\n",
    "    \"\"\"\n",
    "    generate a small batch of data of inputs x and targets y\n",
    "\n",
    "    Args:\n",
    "        split: 'train' or 'val'\n",
    "        device: 'cpu' or 'cuda' (should be 'cuda' if available)\n",
    "    \"\"\"\n",
    "    data = train_data if split == 'train' else val_data\n",
    "    ix = torch.randint(len(data) - context_window_size, (batch_size,))\n",
    "    x = torch.stack([data[i:i+context_window_size] for i in ix])\n",
    "    y = torch.stack([data[i+1:i+context_window_size+1] for i in ix])\n",
    "    x = x.to(device)\n",
    "    y = y.to(device)\n",
    "    return x, y\n",
    "\n",
    "# helper function for tracking loss during training\n",
    "# given to you\n",
    "@torch.no_grad()\n",
    "def estimate_loss(model, eval_iters, context_window_size, device):\n",
    "    \"\"\"\n",
    "    Args:\n",
    "      model: model being evaluated\n",
    "      eval_iters: number of batches to average over\n",
    "      context_window_size: size of the context window\n",
    "      device: 'cpu' or 'cuda' (should be 'cuda' if available)\n",
    "    \"\"\"\n",
    "    out = {}\n",
    "    for split in ['train', 'val']:\n",
    "        losses = torch.zeros(eval_iters)\n",
    "        for k in range(eval_iters):\n",
    "            X, Y = get_batch(split, context_window_size, device)\n",
    "            logits, loss = model(X, Y)\n",
    "            losses[k] = loss.item()\n",
    "        out[split] = losses.mean()\n",
    "    return out"
   ]
  },
  {
   "cell_type": "code",
   "source": [
    "start_context = torch.zeros((1, 1), dtype=torch.long, device=device)\n",
    "print(f\"shape is {start_context.shape}\")\n",
    "context1 = torch.tensor(from_code_bert(tokenizer.encode(prompt_1_text)[:-1]),\n",
    "                        device=device).reshape(1, -1) # (1, T)\n",
    "print(f\"shape is {context1.shape}\")\n",
    "context2 = torch.tensor(from_code_bert(tokenizer.encode(prompt_2_text)[:-1]),\n",
    "                        device=device).reshape(1, -1)\n",
    "print(f\"shape is {context2.shape}\")"
   ],
   "metadata": {
    "colab": {
     "base_uri": "https://localhost:8080/"
    },
    "id": "duRD0prGudOU",
    "outputId": "88be0d02-635b-4780-a204-b89443533de3"
   },
   "execution_count": 17,
   "outputs": [
    {
     "output_type": "stream",
     "name": "stdout",
     "text": [
      "shape is torch.Size([1, 1])\n",
      "shape is torch.Size([1, 225])\n",
      "shape is torch.Size([1, 263])\n"
     ]
    }
   ]
  },
  {
   "cell_type": "code",
   "outputs": [],
   "source": [
    "# Adding temperature sampling to scale how creative logits are\n",
    "def temperature_sampling(logits, temperature=1.0):\n",
    "            \"\"\"\n",
    "            Args:\n",
    "              logits: (B, _, V), logits  gives the length V vector of logits for the next token prediction in string b up to t tokens\n",
    "              temperature: float, temperature scaling factor, closer to 0 means more conservative sampling, closer to infinity means more uniform sampling\n",
    "\n",
    "            returns:\n",
    "                (B, ) tensor of next token ids for each string in the batch\n",
    "            \"\"\"\n",
    "            B = logits.shape[0]\n",
    "            logits_updated = logits / temperature\n",
    "            probabilities = F.softmax(logits_updated, dim=-1)\n",
    "            next_token = torch.multinomial(probabilities.view(B, -1), num_samples=1)\n",
    "            return next_token"
   ],
   "metadata": {
    "ExecuteTime": {
     "end_time": "2024-03-07T06:08:43.717308Z",
     "start_time": "2024-03-07T06:08:43.713445Z"
    },
    "id": "cBjhPGGF_Bdv"
   },
   "execution_count": 18
  },
  {
   "cell_type": "code",
   "execution_count": 43,
   "metadata": {
    "id": "E2r390zbyz3O",
    "ExecuteTime": {
     "end_time": "2024-03-07T06:56:51.142412Z",
     "start_time": "2024-03-07T06:56:49.279326Z"
    }
   },
   "outputs": [],
   "source": [
    "def train_or_load_model(save_dir,\n",
    "                        model_instantiation,\n",
    "                        model_file_name,\n",
    "                        learning_rate = 1e-2,\n",
    "                        iters = SMALL_ITERS,\n",
    "                        eval_iters = 200,\n",
    "                        context_window_size = context_window_size,\n",
    "                        device = device):\n",
    "  \"\"\"\n",
    "  Function to load a model saved in \"save_dir\" or train a new model if no file\n",
    "  exists in \"save_dir.\" The file should have name \"model_file_name_model\"\n",
    "\n",
    "  Args:\n",
    "    save_dir (str): directory to save model\n",
    "    model_instantiation (class): class of model to instantiate\n",
    "    model_file_name (str): name of file to save model to\n",
    "    learning_rate (float): learning rate for optimizer, if no file found\n",
    "  Returns:\n",
    "    Lists of losses for each iteration and evaluation iterations,\n",
    "    changes model as well\n",
    "  \"\"\"\n",
    "  try:\n",
    "      model_instantiation.load_state_dict(\n",
    "          torch.load(save_dir + f\"{model_file_name}_model.pt\"))\n",
    "      with open(save_dir + f\"loss_list_{model_file_name}.csv\", \"r\") as f:\n",
    "          reader = csv.reader(f)\n",
    "          next(reader, None)  # Skip the header\n",
    "          loss_list_model = [float(row[0]) for row in reader]\n",
    "      with open(save_dir + f\"loss_eval_{model_file_name}.csv\", \"r\") as f:\n",
    "          reader = csv.reader(f)\n",
    "          next(reader, None)  # Skip the header\n",
    "          loss_eval_list = [float(row[1]), float(row[2])]\n",
    "      return loss_list_model, loss_eval_list\n",
    "      print(\"Read in model from file\")\n",
    "  except:\n",
    "      print(\"No File Found, Training Model\")\n",
    "      # create a PyTorch optimizer\n",
    "      optimizer = torch.optim.AdamW(model_instantiation.parameters(),\n",
    "                                    lr=learning_rate)\n",
    "\n",
    "      eval_interval = eval_iters\n",
    "\n",
    "      loss_list_model = [] # list to store all losses\n",
    "      loss_eval_list = []  # list to store evaluation losses\n",
    "\n",
    "      for it in tqdm(range(iters)):\n",
    "          # every once in a while evaluate the loss on train and val sets\n",
    "          if it % eval_interval == 0 or it == iters - 1:\n",
    "              print(f\"iteration {it}\")\n",
    "              losses = estimate_loss(model_instantiation, eval_iters, context_window_size, device)\n",
    "              print(f\"step {it}: train loss {losses['train']:.4f}, val loss {losses['val']:.4f}\")\n",
    "              loss_eval_list.append([it, losses['train'], losses['val']])\n",
    "\n",
    "          # sample a batch of data\n",
    "          xb, yb = get_batch('train', context_window_size, device)\n",
    "\n",
    "          # evaluate the loss\n",
    "          logits, loss = model_instantiation(xb, yb)\n",
    "          loss_list_model.append(loss.detach().item())\n",
    "          optimizer.zero_grad(set_to_none=True)\n",
    "          loss.backward()\n",
    "          optimizer.step()\n",
    "\n",
    "      torch.save(model_instantiation.state_dict(), save_dir + f\"{model_file_name}_model.pt\")\n",
    "\n",
    "      # Save batch losses to CSV\n",
    "      with open(save_dir + f\"loss_list_{model_file_name}.csv\",\n",
    "                \"w\", newline='') as f:\n",
    "          writer = csv.writer(f)\n",
    "          writer.writerow([\"Loss\"])\n",
    "          writer.writerows([loss_list_model])\n",
    "\n",
    "      # Save evaluation losses to CSV\n",
    "      with open(save_dir + f\"loss_eval_{model_file_name}.csv\", \"w\", newline='') as f:\n",
    "          writer = csv.writer(f)\n",
    "          writer.writerow([\"Iteration\", \"Train Loss\", \"Validation Loss\"])\n",
    "          writer.writerows(loss_eval_list)\n",
    "      return loss_list_model, loss_eval_list"
   ]
  },
  {
   "cell_type": "markdown",
   "metadata": {
    "id": "vqCCiCYcKMD0"
   },
   "source": [
    "# Part 1. Baseline transformer model\n",
    "\n",
    "We now stack 6 `TransformerBlocks` (with a final layer norm applied after the blocks but before the logits) to create our basline `TransformerLM`."
   ]
  },
  {
   "cell_type": "code",
   "execution_count": 21,
   "metadata": {
    "id": "O_eBPiT-Yy0q",
    "ExecuteTime": {
     "end_time": "2024-03-07T07:24:13.851869Z",
     "start_time": "2024-03-07T07:24:13.848239Z"
    }
   },
   "outputs": [],
   "source": [
    "class Head(nn.Module):\n",
    "    \"\"\" one head of self-attention \"\"\"\n",
    "\n",
    "    def __init__(self, head_size, context_window_size, embed_size=384):\n",
    "        \"\"\"\n",
    "        Args:\n",
    "          head_size: int, size of the head embedding dimension (K)\n",
    "          context_window_size: int, number of tokens considered in the past for attention (T)\n",
    "          embed_size: int, size of the token embedding dimension (D)\n",
    "        \"\"\"\n",
    "        super().__init__()\n",
    "        self.head_size = head_size\n",
    "        self.key = nn.Linear(embed_size, head_size, bias=False)\n",
    "        self.query = nn.Linear(embed_size, head_size, bias=False)\n",
    "        self.value = nn.Linear(embed_size, embed_size, bias=False)\n",
    "\n",
    "        # not a param of the model, so registered as a buffer\n",
    "        self.register_buffer('tril', torch.tril(\n",
    "            torch.ones(context_window_size, context_window_size)))\n",
    "\n",
    "    def forward(self, x):\n",
    "        \"\"\"\n",
    "        Args:\n",
    "          x: (B,T,D) tensor of token embeddings\n",
    "\n",
    "        Returns:\n",
    "          (B,T,D) tensor of attention-weighted token embeddings\n",
    "        \"\"\"\n",
    "        _, T, _ = x.shape\n",
    "        attn_weights = self.query(x) @ self.key(x).transpose(-1, -2) #(-1,-2) # (B,T,T)\n",
    "        attn_weights = attn_weights.masked_fill(self.tril[:T, :T] == 0, float('-inf'))\n",
    "        attn_weights = F.softmax(attn_weights / sqrt(self.head_size), dim=-1)\n",
    "        return attn_weights @ self.value(x)"
   ]
  },
  {
   "cell_type": "code",
   "execution_count": 22,
   "metadata": {
    "id": "6vb8NU_s6Vfg",
    "ExecuteTime": {
     "end_time": "2024-03-07T08:11:10.625567Z",
     "start_time": "2024-03-07T08:11:10.622097Z"
    }
   },
   "outputs": [],
   "source": [
    "class MultiHeadAttention(nn.Module):\n",
    "    \"\"\" multiple heads of self-attention in parallel \"\"\"\n",
    "\n",
    "    def __init__(self, vocab_size, context_window_size, num_heads, head_size, embed_size=384):\n",
    "        super().__init__()\n",
    "        # my code below\n",
    "        self.heads = nn.ModuleList([Head(head_size, context_window_size, embed_size) for _ in range(num_heads)])\n",
    "        self.linear = nn.Linear(num_heads * embed_size, embed_size, bias=False) # Just doing a linear mapping to get back to vocab size\n",
    "\n",
    "    def forward(self, x):\n",
    "        head_outputs = [head(x) for head in self.heads] # List of num_heads # of (B,T,D) tensors\n",
    "        concat = torch.cat(head_outputs, dim=-1) # (B,T,D*H)\n",
    "        return self.linear(concat) # (B,T,V) learns a combination (might be slow, if so will just sum again)"
   ]
  },
  {
   "cell_type": "code",
   "execution_count": 23,
   "metadata": {
    "id": "1GbGqwKWJzOK",
    "ExecuteTime": {
     "end_time": "2024-03-07T03:41:11.807971Z",
     "start_time": "2024-03-07T03:41:11.805366Z"
    }
   },
   "outputs": [],
   "source": [
    "# run this cell to initialize this deep learning module that you should use in the code your write later\n",
    "# you don't need to edit this layer\n",
    "class FeedForward(nn.Module):\n",
    "    \"\"\" a simple linear layer followed by a non-linearity\n",
    "        Given to you, you don't need to write any code here!\n",
    "    \"\"\"\n",
    "\n",
    "    def __init__(self, embed_size):\n",
    "        super().__init__()\n",
    "        self.net = nn.Sequential(\n",
    "            nn.Linear(embed_size, 4 * embed_size),\n",
    "            nn.ReLU(),\n",
    "            nn.Linear(4 * embed_size, embed_size),\n",
    "        )\n",
    "\n",
    "    def forward(self, x):\n",
    "        return self.net(x)"
   ]
  },
  {
   "cell_type": "code",
   "execution_count": 24,
   "metadata": {
    "id": "hUDbIv9eISkf",
    "ExecuteTime": {
     "end_time": "2024-03-07T03:41:13.006642Z",
     "start_time": "2024-03-07T03:41:13.003723Z"
    }
   },
   "outputs": [],
   "source": [
    "class TransformerBlock(nn.Module):\n",
    "    \"\"\" Transformer block: communication across sequence length, followed by communication across embedding space\n",
    "        Uses multi-headed attention\n",
    "    \"\"\"\n",
    "\n",
    "    def __init__(self, vocab_size, block_size, embed_size=384, num_heads=6):\n",
    "        super().__init__()\n",
    "        self.ln1 = nn.LayerNorm(embed_size)\n",
    "        self.ln2 = nn.LayerNorm(embed_size)\n",
    "\n",
    "        # TODO: your code below\n",
    "        self.feed_forward = FeedForward(embed_size)\n",
    "        head_size = embed_size // num_heads\n",
    "        self.mh_attention = MultiHeadAttention(vocab_size, block_size,\n",
    "                                                 num_heads, head_size,\n",
    "                                                 embed_size=384)\n",
    "\n",
    "    def forward(self, x):\n",
    "        x = x + self.mh_attention(self.ln1(x)) # communication over sequence length\n",
    "        x = x + self.feed_forward(self.ln2(x)) # communication across embedding space\n",
    "        return x"
   ]
  },
  {
   "cell_type": "code",
   "execution_count": 49,
   "metadata": {
    "id": "t2veTg9N3ufJ",
    "ExecuteTime": {
     "end_time": "2024-03-07T03:41:14.102184Z",
     "start_time": "2024-03-07T03:41:14.096202Z"
    }
   },
   "outputs": [],
   "source": [
    "class TransformerLM(nn.Module):\n",
    "\n",
    "    def __init__(self, vocab_size, context_window_size, embed_size=384, num_heads=6, n_layers=6):\n",
    "        \"\"\"\n",
    "          Args:\n",
    "              vocab_size: int, number of tokens in the vocabulary (V)\n",
    "              context_window_size: int, size of the context window (T)\n",
    "              embed_size: int, embedding size (D)\n",
    "              num_heads: int, number of heads (H)\n",
    "              n_layers: int, number of layers (M)\n",
    "        \"\"\"\n",
    "        super().__init__()\n",
    "        self.token_embedding_table = nn.Embedding(vocab_size, embed_size)\n",
    "        self.position_embedding_table = nn.Embedding(context_window_size, embed_size)\n",
    "        self.blocks = nn.Sequential(*[\n",
    "            TransformerBlock(vocab_size,\n",
    "                             context_window_size,\n",
    "                             embed_size=embed_size,\n",
    "                             num_heads=num_heads)\n",
    "            for _ in range(n_layers)])\n",
    "        self.context_window_size = context_window_size\n",
    "\n",
    "        # final layer norm\n",
    "        self.ln_f = nn.LayerNorm(embed_size)\n",
    "        self.lm_head = nn.Linear(embed_size, vocab_size)\n",
    "\n",
    "        # good initialization\n",
    "        self.apply(self._init_weights)\n",
    "\n",
    "    def _init_weights(self, module):\n",
    "        if isinstance(module, nn.Linear):\n",
    "            torch.nn.init.normal_(module.weight, mean=0.0, std=0.02)\n",
    "            if module.bias is not None:\n",
    "                torch.nn.init.zeros_(module.bias)\n",
    "        elif isinstance(module, nn.Embedding):\n",
    "            torch.nn.init.normal_(module.weight, mean=0.0, std=0.02)\n",
    "\n",
    "    def forward(self, token_ids, targets=None):\n",
    "        \"\"\"\n",
    "        Agrgs:\n",
    "            token_ids: tensor of integers, provides the contet, shape (B, T)\n",
    "            targets: tensor of integers, provides the tokens we are preidcitng, shape (B, T)\n",
    "        \"\"\"\n",
    "        B, T = token_ids.shape\n",
    "\n",
    "        # token_ids and targets are both (B, T) tensor of integers\n",
    "        tok_emb = self.token_embedding_table(token_ids) # (B, T, D)\n",
    "        pos_emb = self.position_embedding_table(torch.arange(T, device=device)) # (T, D)\n",
    "        x = tok_emb + pos_emb # (B, T, D)\n",
    "\n",
    "\n",
    "        # Start of my code\n",
    "        logits = self.lm_head(self.ln_f(self.blocks(x))) # (B, T, V) # able to put all in one step because of sequential\n",
    "        if targets is None:\n",
    "            loss = None\n",
    "        else:\n",
    "            logits_for_loss = logits.view(B*T, -1) # could do -1 here, but doing explicitly for clarity\n",
    "            targets_for_loss = targets.view(B*T)\n",
    "            loss = F.cross_entropy(logits_for_loss, targets_for_loss) # default reduction is mean, so we don't need to average\n",
    "\n",
    "        return logits, loss\n",
    "\n",
    "    @torch.no_grad()\n",
    "    def generate(self, token_ids, max_new_tokens, temperature=1.0):\n",
    "        \"\"\"\n",
    "        Args:\n",
    "            token_ids: tensor of integers forming the context, shape (B, T)\n",
    "            max_new_tokens: int, max number of tokens to generate\n",
    "        \"\"\"\n",
    "        # done\n",
    "        generated_tokens = token_ids\n",
    "        for _ in range(max_new_tokens):\n",
    "            in_window = generated_tokens[:, -self.context_window_size:] # (B, T)\n",
    "            # Get the logits for the current sequence\n",
    "            logits, _ = self.forward(in_window)  # (B, T_current, V)\n",
    "            # Select the last token logits\n",
    "            next_token_logits = logits[:, -1, :]  # (B, V)\n",
    "            next_token = temperature_sampling(next_token_logits, temperature)  # Sample a new token\n",
    "            generated_tokens = torch.cat([generated_tokens, next_token], dim=1)  # (B, T_current + 1)\n",
    "        return generated_tokens"
   ]
  },
  {
   "cell_type": "markdown",
   "metadata": {
    "id": "JP8430nWKbZ6"
   },
   "source": [
    "Train your `TransformerLM` for `LARGE_ITERS` iterations and plot the loss curve. You may want to change the learning rate.\n",
    "\n",
    "We used a learning rate of `1e-4` and got to a final train loss of around 2.4 in around 30 mins of training."
   ]
  },
  {
   "cell_type": "code",
   "outputs": [],
   "source": [
    "trans = TransformerLM(vocab_size, context_window_size)\n",
    "tlm = trans.to(device)"
   ],
   "metadata": {
    "id": "bRdrsGA7_Bd1"
   },
   "execution_count": 50
  },
  {
   "cell_type": "code",
   "execution_count": 51,
   "metadata": {
    "id": "jsnbDpdhLeKo",
    "ExecuteTime": {
     "end_time": "2024-03-07T03:41:18.280389Z",
     "start_time": "2024-03-07T03:41:15.190412Z"
    },
    "colab": {
     "base_uri": "https://localhost:8080/"
    },
    "outputId": "cfa74e32-b2f4-4890-9b2d-594d3865159e"
   },
   "outputs": [
    {
     "output_type": "stream",
     "name": "stdout",
     "text": [
      "No File Found, Training Model\n"
     ]
    },
    {
     "output_type": "stream",
     "name": "stderr",
     "text": [
      "\r  0%|          | 0/4000 [00:00<?, ?it/s]"
     ]
    },
    {
     "output_type": "stream",
     "name": "stdout",
     "text": [
      "iteration 0\n"
     ]
    },
    {
     "output_type": "stream",
     "name": "stderr",
     "text": [
      "\r  0%|          | 1/4000 [00:43<48:27:13, 43.62s/it]"
     ]
    },
    {
     "output_type": "stream",
     "name": "stdout",
     "text": [
      "step 0: train loss 10.0605, val loss 10.0547\n"
     ]
    },
    {
     "output_type": "stream",
     "name": "stderr",
     "text": [
      " 10%|█         | 400/4000 [01:49<09:58,  6.02it/s]"
     ]
    },
    {
     "output_type": "stream",
     "name": "stdout",
     "text": [
      "iteration 400\n"
     ]
    },
    {
     "output_type": "stream",
     "name": "stderr",
     "text": [
      "\r 10%|█         | 401/4000 [02:33<13:20:37, 13.35s/it]"
     ]
    },
    {
     "output_type": "stream",
     "name": "stdout",
     "text": [
      "step 400: train loss 3.7862, val loss 3.9551\n"
     ]
    },
    {
     "output_type": "stream",
     "name": "stderr",
     "text": [
      " 20%|██        | 800/4000 [03:39<08:49,  6.04it/s]"
     ]
    },
    {
     "output_type": "stream",
     "name": "stdout",
     "text": [
      "iteration 800\n"
     ]
    },
    {
     "output_type": "stream",
     "name": "stderr",
     "text": [
      "\r 20%|██        | 801/4000 [04:23<11:52:43, 13.37s/it]"
     ]
    },
    {
     "output_type": "stream",
     "name": "stdout",
     "text": [
      "step 800: train loss 3.2139, val loss 3.5743\n"
     ]
    },
    {
     "output_type": "stream",
     "name": "stderr",
     "text": [
      " 30%|███       | 1200/4000 [05:29<07:48,  5.98it/s]"
     ]
    },
    {
     "output_type": "stream",
     "name": "stdout",
     "text": [
      "iteration 1200\n"
     ]
    },
    {
     "output_type": "stream",
     "name": "stderr",
     "text": [
      "\r 30%|███       | 1201/4000 [06:13<10:23:47, 13.37s/it]"
     ]
    },
    {
     "output_type": "stream",
     "name": "stdout",
     "text": [
      "step 1200: train loss 2.8353, val loss 3.3502\n"
     ]
    },
    {
     "output_type": "stream",
     "name": "stderr",
     "text": [
      " 40%|████      | 1600/4000 [07:20<06:40,  5.99it/s]"
     ]
    },
    {
     "output_type": "stream",
     "name": "stdout",
     "text": [
      "iteration 1600\n"
     ]
    },
    {
     "output_type": "stream",
     "name": "stderr",
     "text": [
      "\r 40%|████      | 1601/4000 [08:04<8:55:05, 13.38s/it]"
     ]
    },
    {
     "output_type": "stream",
     "name": "stdout",
     "text": [
      "step 1600: train loss 2.5653, val loss 3.1992\n"
     ]
    },
    {
     "output_type": "stream",
     "name": "stderr",
     "text": [
      " 50%|█████     | 2000/4000 [09:10<05:32,  6.02it/s]"
     ]
    },
    {
     "output_type": "stream",
     "name": "stdout",
     "text": [
      "iteration 2000\n"
     ]
    },
    {
     "output_type": "stream",
     "name": "stderr",
     "text": [
      "\r 50%|█████     | 2001/4000 [09:54<7:25:17, 13.37s/it]"
     ]
    },
    {
     "output_type": "stream",
     "name": "stdout",
     "text": [
      "step 2000: train loss 2.3548, val loss 3.1136\n"
     ]
    },
    {
     "output_type": "stream",
     "name": "stderr",
     "text": [
      " 60%|██████    | 2400/4000 [11:00<04:26,  6.01it/s]"
     ]
    },
    {
     "output_type": "stream",
     "name": "stdout",
     "text": [
      "iteration 2400\n"
     ]
    },
    {
     "output_type": "stream",
     "name": "stderr",
     "text": [
      "\r 60%|██████    | 2401/4000 [11:44<5:55:46, 13.35s/it]"
     ]
    },
    {
     "output_type": "stream",
     "name": "stdout",
     "text": [
      "step 2400: train loss 2.1837, val loss 3.0289\n"
     ]
    },
    {
     "output_type": "stream",
     "name": "stderr",
     "text": [
      " 70%|███████   | 2800/4000 [12:50<03:20,  5.99it/s]"
     ]
    },
    {
     "output_type": "stream",
     "name": "stdout",
     "text": [
      "iteration 2800\n"
     ]
    },
    {
     "output_type": "stream",
     "name": "stderr",
     "text": [
      "\r 70%|███████   | 2801/4000 [13:35<4:27:20, 13.38s/it]"
     ]
    },
    {
     "output_type": "stream",
     "name": "stdout",
     "text": [
      "step 2800: train loss 2.0350, val loss 2.9783\n"
     ]
    },
    {
     "output_type": "stream",
     "name": "stderr",
     "text": [
      " 80%|████████  | 3200/4000 [14:41<02:13,  6.01it/s]"
     ]
    },
    {
     "output_type": "stream",
     "name": "stdout",
     "text": [
      "iteration 3200\n"
     ]
    },
    {
     "output_type": "stream",
     "name": "stderr",
     "text": [
      "\r 80%|████████  | 3201/4000 [15:25<2:58:06, 13.38s/it]"
     ]
    },
    {
     "output_type": "stream",
     "name": "stdout",
     "text": [
      "step 3200: train loss 1.8885, val loss 2.9517\n"
     ]
    },
    {
     "output_type": "stream",
     "name": "stderr",
     "text": [
      " 90%|█████████ | 3600/4000 [16:31<01:06,  6.04it/s]"
     ]
    },
    {
     "output_type": "stream",
     "name": "stdout",
     "text": [
      "iteration 3600\n"
     ]
    },
    {
     "output_type": "stream",
     "name": "stderr",
     "text": [
      "\r 90%|█████████ | 3601/4000 [17:15<1:28:59, 13.38s/it]"
     ]
    },
    {
     "output_type": "stream",
     "name": "stdout",
     "text": [
      "step 3600: train loss 1.7749, val loss 2.9469\n"
     ]
    },
    {
     "output_type": "stream",
     "name": "stderr",
     "text": [
      "100%|█████████▉| 3999/4000 [18:21<00:00,  5.98it/s]"
     ]
    },
    {
     "output_type": "stream",
     "name": "stdout",
     "text": [
      "iteration 3999\n"
     ]
    },
    {
     "output_type": "stream",
     "name": "stderr",
     "text": [
      "100%|██████████| 4000/4000 [19:05<00:00,  3.49it/s]"
     ]
    },
    {
     "output_type": "stream",
     "name": "stdout",
     "text": [
      "step 3999: train loss 1.6909, val loss 2.9300\n"
     ]
    },
    {
     "output_type": "stream",
     "name": "stderr",
     "text": [
      "\n"
     ]
    }
   ],
   "source": [
    "loss_list_tlm, loss_eval_tlm = train_or_load_model(save_dir,\n",
    "                                                     tlm,\n",
    "                                                     \"tlm_final\",\n",
    "                                                     learning_rate = 1e-4,\n",
    "                                                     iters = 4000,\n",
    "                                                     eval_iters = 400,\n",
    "                                                     context_window_size = context_window_size,\n",
    "                                                     device = device)"
   ]
  },
  {
   "cell_type": "code",
   "source": [
    "plt.plot(loss_list_tlm)\n",
    "plt.xlabel(\"Iterations\")\n",
    "plt.ylabel(\"Loss\")\n",
    "plt.show()"
   ],
   "metadata": {
    "colab": {
     "base_uri": "https://localhost:8080/",
     "height": 449
    },
    "id": "806MtFmgHJsu",
    "outputId": "d954421c-c602-414e-a59c-ec35630a0eac"
   },
   "execution_count": 52,
   "outputs": [
    {
     "output_type": "display_data",
     "data": {
      "text/plain": [
       "<Figure size 640x480 with 1 Axes>"
      ],
      "image/png": "[encoded data removed]"
     },
     "metadata": {}
    }
   ]
  },
  {
   "cell_type": "markdown",
   "metadata": {
    "id": "5Jgvwzv5Ko7c"
   },
   "source": [
    "Generate an unconditional sample of length `context_window_size` from your trained `TransformerLM`, and also prompt it with the two prompts we gave you. How does the output look? Discuss?"
   ]
  },
  {
   "cell_type": "code",
   "execution_count": 53,
   "metadata": {
    "id": "89-1t6MRLVi4",
    "colab": {
     "base_uri": "https://localhost:8080/"
    },
    "outputId": "1b5ff258-6ef5-41e3-cf66-4fbc3e76059b"
   },
   "outputs": [
    {
     "output_type": "stream",
     "name": "stdout",
     "text": [
      "shape is torch.Size([1, 1])\n",
      "shape is torch.Size([1, 225])\n",
      "shape is torch.Size([1, 263])\n"
     ]
    }
   ],
   "source": [
    "# the contexts for the different prompts\n",
    "start_context = torch.zeros((1, 1), dtype=torch.long, device=device)\n",
    "print(f\"shape is {start_context.shape}\")\n",
    "context1 = torch.tensor(from_code_bert(tokenizer.encode(prompt_1_text)[:-1]), device=device).reshape(1, -1) # (1, T)\n",
    "print(f\"shape is {context1.shape}\")\n",
    "context2 = torch.tensor(from_code_bert(tokenizer.encode(prompt_2_text)[:-1])).to(device).reshape(1, -1)\n",
    "print(f\"shape is {context2.shape}\")"
   ]
  },
  {
   "cell_type": "code",
   "execution_count": 54,
   "metadata": {
    "id": "9_rxT1iSKzdO",
    "colab": {
     "base_uri": "https://localhost:8080/"
    },
    "outputId": "2b29c774-3b92-4543-ed90-f860f5ddc15c"
   },
   "outputs": [
    {
     "output_type": "stream",
     "name": "stdout",
     "text": [
      "<s>#!/usr/license-negative/sr\n",
      "import requests.bin\n",
      "import json-'\n",
      "\n",
      "\n",
      "def stFileize():\n",
      "     url = f'{http://localhostmap(uuid.irport)}\\array\\n'\n",
      "\n",
      "    animal = os.se 9000\n",
      "    data = data.read(r, myer, login)\n",
      "\n",
      "    returnnd\n",
      "\n",
      "with open('h', '/where.json') as f:\n",
      "    def rv(len, loop):\n",
      "        yieldel\n",
      "\n",
      "    dt = [f for x in size:\n",
      "            f.rotation()\n",
      "    raise TypeError()\n",
      "\n",
      "    print('all required uri' ')\n",
      "\n",
      "    for x, v) in file.items():\n",
      "        res = list()\n",
      "        None\n",
      "        result = svti()\n",
      "        print(top + b)\n",
      "    else:\n",
      "        # Config from config action():\n"
     ]
    }
   ],
   "source": [
    "# unconditional generate from the transformer model\n",
    "uncond_gen = (tlm.generate(start_context, max_new_tokens=context_window_size)[0].tolist())\n",
    "print(tokenizer.decode(to_code_bert(uncond_gen)))"
   ]
  },
  {
   "cell_type": "code",
   "source": [
    "# generate from the prompts\n",
    "gen_1 = tlm.generate(context1, max_new_tokens=context_window_size, temperature=.8)\n",
    "gen_2 = tlm.generate(context2, max_new_tokens=context_window_size, temperature=.8)\n",
    "# decode the generated tokens\n",
    "gen_1_text = tokenizer.decode(to_code_bert(gen_1[0].cpu().numpy()))\n",
    "gen_2_text = tokenizer.decode(to_code_bert(gen_2[0].cpu().numpy()))"
   ],
   "metadata": {
    "id": "8pvqksayF1Uf"
   },
   "execution_count": 61,
   "outputs": []
  },
  {
   "cell_type": "code",
   "execution_count": 62,
   "metadata": {
    "id": "1-FeFwD8K4jj",
    "colab": {
     "base_uri": "https://localhost:8080/"
    },
    "outputId": "16d1d625-545b-48d1-f2f3-c75aa7b3686e"
   },
   "outputs": [
    {
     "output_type": "stream",
     "name": "stdout",
     "text": [
      "generated text from prompt 1: <s>def newton(eta, N, X, y, gamma, beta=None):\n",
      "  \"\"\"\n",
      "  Performs Newton's method on the negative average log likelihood with an\n",
      "  l2 regularization term\n",
      "\n",
      "  beta: torch.Tensor, of shape (teams)\n",
      "  X: torch.Tensor, the covariate matrix, of shape (-1, teams)\n",
      "  y: torch.Tensor, the response vector, of shape (teams)\n",
      "  gamma: float, the scale parameter for the regularization\n",
      "  beta: torch.Tensor, the starting point for gradient descent, if specified\n",
      "  \"\"\"\n",
      "\n",
      "  if beta is None:\n",
      "    # Instantiate the beta vector at a random point\n",
      "    beta = torch.randn(X.shape[1])\n",
      "  else:\n",
      "    beta = torch.clone(beta)\n",
      "\n",
      "  loss = []\n",
      "\n",
      "  # Instantiate a list to store the loss throughout the gradient descent\n",
      "  # path\n",
      "  for i in tqdm(range(N)):\n",
      "    l1 = lexporter.get_for_info()\n",
      "    with pytest.raises(\n",
      "        \"AtesVal`Eets if run):\n",
      "        return\n",
      "\n",
      "    if n:\n",
      "        # handle the def for 0\n",
      "        raise ValueError(\n",
      "            self.eb1, self.cuda_check, r1.get_consumer(\"a\"), params)\n",
      "    # get the query token unit edge\n",
      "        # Get the JSON support print(self.default)\n",
      "        sys.stderr.append(\"Local address: {}\".format(self.get('nan')))\n",
      "        return len(self.get('exmar.getid')):\n",
      "        \n",
      "    @patch('cursor', '')\n",
      "    def _has_grant_mean(self, not self):\n",
      "        return {}\n"
     ]
    }
   ],
   "source": [
    "print(f\"generated text from prompt 1: {gen_1_text}\")"
   ]
  },
  {
   "cell_type": "code",
   "execution_count": 63,
   "metadata": {
    "id": "tA2TnXBzK6mN",
    "colab": {
     "base_uri": "https://localhost:8080/"
    },
    "outputId": "acede177-030a-47f1-b7d4-18e4cc035729"
   },
   "outputs": [
    {
     "output_type": "stream",
     "name": "stdout",
     "text": [
      "generated text from prompt 2: <s>import torch\n",
      "import torch.nn.functional as F\n",
      "\n",
      "\n",
      "def normalize(x, axis=-1):\n",
      "    \"\"\"Performs L2-Norm.\"\"\"\n",
      "    num = x\n",
      "    denom = torch.norm(x, 2, axis, keepdim=True).expand_as(x) + 1e-12\n",
      "    return num / denom\n",
      "\n",
      "def euclidean_dist(x, y):\n",
      "    \"\"\"Computes Euclidean distance.\"\"\"\n",
      "    m, n = x.size(0), y.size(0)\n",
      "    xx = torch.pow(x, 2).sum(1, keepdim=True).expand(m, n)\n",
      "    yy = torch.pow(x, 2).sum(1, keepdim=True).expand(m, m).t()\n",
      "    dist = xx + yy - 2 * torch.matmul(x, y.t())\n",
      "\n",
      "    dist = dist.clamp(min=1e-12).sqrt()\n",
      "\n",
      "    return dist\n",
      "\n",
      "\n",
      "def cosine_dist(x, y):\n",
      "    \"\"\"\n",
      "    Returns a yps results = []\n",
      "\n",
      "    assert R.MC_RTS\n",
      "\n",
      "    # Check that the function we check all\n",
      "    # classification elements that is case\n",
      "    if we.\n",
      "\n",
      "     orange_sqrtd(z) in pear331/256, zeta1, and reduce\n",
      "    # cycle are want\n",
      "    def test_start_view(self):\n",
      "        x, y = draw_transargs(self.num_grad, x, other_features, angle=np.sy))\n",
      "        x =conv * np.random.randint(0, 3, 5))\n",
      "        x = x * x\n",
      "        x = self.concat([x, x])\n",
      "        x, y = x + x, y * y = x\n",
      "\n",
      "        x = x for x in x in [(x, y, y):\n",
      "            y = x = x,\n"
     ]
    }
   ],
   "source": [
    "# conditional generation of cosine distance\n",
    "print(f\"generated text from prompt 2: {gen_2_text}\")"
   ]
  },
  {
   "cell_type": "markdown",
   "metadata": {
    "id": "9Izr1wTOjzlo"
   },
   "source": [
    "## Part 2: Mini-Project"
   ]
  },
  {
   "cell_type": "markdown",
   "metadata": {
    "id": "5lF3jFrQj1f4"
   },
   "source": [
    "Quick recap: So far we have\n",
    "\n",
    "1. Preprocessed the python code dataset by encoding text into integer tokens.\n",
    "2. Implemented single headed attention and then further generalized to multiheaded attention. We further combined multiheaded attention with deep learning to create the transformer architecture.\n",
    "3. Trained our transformer and generate code output.\n",
    "\n",
    "Up to this point, the performance of our simple language model has clearly made a lot of progress. We can see that our model has learned to generate in the style of python code syntax, although there are many quirks that suggest it will not make a very practical code assistant in its current state.\n",
    "\n",
    "### Project Outline\n",
    "\n",
    "Find some area of possible improvement.\n",
    "We interpret \"improvement\" quite loosely, but it is up to you to state precisely in what sense your proposed innovation might constitute an improvement and to show convincing evidence that your innovation does or does not constitue an improvement according to your definition.\n",
    "For your idea, **formulate a hypothesis** for why this change should result in a better model. **Implement your changes** and **report any findings**.\n",
    "\n",
    "_Notes_: As this assignment is being treated as a project, you should expect training to take longer than previous assignments. However, please use your judgement to decide what is reasonable. We will not expect you to run training procedures that take more than 2 hours on the free Google Colab computing resources and we certainly do not expect you to acquire additional compute. The proposed improvements should not solely rely on increased computing demands, but must be based on the goal of improving the model by more efficiently learning from our data.\n",
    "\n",
    "_Hints_: There are many aspects to assessing our model. For example, not only is quality of generated text important, it is also of interest to reduce costs associated with training.\n",
    "\n",
    "### Deliverables\n",
    "\n",
    "In addition to a pdf of your python notebook, the submission for this project will be a written report no more than 4 pages in length using the [NeurIPS LaTex template](https://neurips.cc/Conferences/2023/PaperInformation/StyleFiles). Your report should include detailed analysis of the hypotheses you chose to test along with any conclusions.\n",
    "\n",
    "The page limit for the report does not include bibliography or appendices. Make sure to keep the \"ready for submission\" option to help us grade anonymously. One of your apprendices should contain a link to any code used to generate the project so that we can grade it (google drive with colab nbs or github repo are both fine). You should have at least one plot in your main text (which is capped at 4 pages).\n",
    "\n",
    "### Data augmentation\n",
    "\n",
    "We got the data for this project from [The Stack](https://huggingface.co/datasets/bigcode/the-stack-dedup). If you'd like, you can definitely train on larger datasets by accessing their dataset of python code (we just scratched the surface). You have to make an account on Hugginface to get a Hugginface access token, but the process is pretty quick."
   ]
  },
  {
   "cell_type": "markdown",
   "source": [
    "# S4 Mamba (Called S6 because idk)"
   ],
   "metadata": {
    "id": "hsxkESKIkocQ"
   }
  },
  {
   "cell_type": "markdown",
   "source": [
    "## General Idea"
   ],
   "metadata": {
    "id": "Goq_JEu0kq0y"
   }
  },
  {
   "cell_type": "markdown",
   "source": [
    "We want to implement [Mamba](https://arxiv.org/abs/2312.00752). This is a new way of thinking about long range sequence modeling and as such we will be expanding our view beyond simply saying \"let's connect everything and see what happens.\" I view Mamba as a reasonable comparison to Transformers because they are both adapted to the GPU and take full advantage of them. We will first implement S4 Mamba and then attempt to do some purturbations of the idea.\n",
    "\n",
    "I will attempt to follow, as closely as possible, the notation of the original paper while still following Python Conventions.\n",
    "\n",
    "Generally Mamba is taking the original S4 layers and enabling Time variance. S5 could do this well but all of the code is in JAX which seems hard to write in (at least for me right now). I want to get a working Mamba model and then see if I can build on it"
   ],
   "metadata": {
    "id": "pYSxq5zuksv8"
   }
  },
  {
   "cell_type": "markdown",
   "source": [
    "I also want to move this to JAX at some point, but first I will just implement it in PyTorch because I know that better (I tried to do JAX but it was hard at first)"
   ],
   "metadata": {
    "id": "zTWAu04O8BeD"
   }
  },
  {
   "cell_type": "markdown",
   "source": [
    "First we want to develop based on the algorithm given here:\n",
    "\n"
   ],
   "metadata": {
    "collapsed": false
   }
  },
  {
   "cell_type": "code",
   "source": [
    "# all imports at the top so nothing here"
   ],
   "metadata": {
    "id": "qjr5UkpZMLUT"
   },
   "execution_count": null,
   "outputs": []
  },
  {
   "cell_type": "code",
   "outputs": [],
   "source": [],
   "metadata": {
    "collapsed": false
   }
  }
 ],
 "metadata": {
  "accelerator": "GPU",
  "colab": {
   "gpuType": "V100",
   "provenance": [],
   "machine_shape": "hm"
  },
  "kernelspec": {
   "name": "python3",
   "language": "python",
   "display_name": "Python 3 (ipykernel)"
  },
  "language_info": {
   "name": "python"
  }
 },
 "nbformat": 4,
 "nbformat_minor": 0
}
